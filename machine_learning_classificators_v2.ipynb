{
  "cells": [
    {
      "cell_type": "code",
      "execution_count": 12,
      "metadata": {
        "colab": {
          "base_uri": "https://localhost:8080/"
        },
        "id": "QNdF_gKTRaez",
        "outputId": "36651664-ee7b-4460-bce0-9339bd8625ee"
      },
      "outputs": [
        {
          "output_type": "stream",
          "name": "stdout",
          "text": [
            "--2024-10-20 13:33:14--  http://www.kasprowski.pl/datasets/emvic.zip\n",
            "Resolving www.kasprowski.pl (www.kasprowski.pl)... 94.152.164.213\n",
            "Connecting to www.kasprowski.pl (www.kasprowski.pl)|94.152.164.213|:80... connected.\n",
            "HTTP request sent, awaiting response... 200 OK\n",
            "Length: 4295994 (4.1M) [application/zip]\n",
            "Saving to: ‘emvic.zip’\n",
            "\n",
            "emvic.zip           100%[===================>]   4.10M  3.50MB/s    in 1.2s    \n",
            "\n",
            "2024-10-20 13:33:16 (3.50 MB/s) - ‘emvic.zip’ saved [4295994/4295994]\n",
            "\n",
            "Archive:  emvic.zip\n",
            "  inflating: emvic.data              \n"
          ]
        }
      ],
      "source": [
        "!wget http://www.kasprowski.pl/datasets/emvic.zip\n",
        "!unzip emvic.zip\n"
      ]
    },
    {
      "cell_type": "code",
      "execution_count": 21,
      "metadata": {
        "id": "oSR7I_GHh8ZG"
      },
      "outputs": [],
      "source": [
        "\n",
        "import pandas as pd\n",
        "import numpy as np\n",
        "from sklearn.model_selection import train_test_split\n",
        "from sklearn.preprocessing import StandardScaler\n",
        "from sklearn.metrics import classification_report, confusion_matrix, accuracy_score, precision_score, recall_score, f1_score\n",
        "from sklearn.feature_selection import SelectKBest, f_classif\n",
        "from sklearn.ensemble import GradientBoostingClassifier, BaggingClassifier, RandomForestClassifier\n",
        "from sklearn.linear_model import LogisticRegression\n",
        "from sklearn.neighbors import KNeighborsClassifier\n",
        "from sklearn.tree import DecisionTreeClassifier\n",
        "from sklearn.svm import SVC\n",
        "from sklearn.linear_model import RidgeClassifier\n",
        "from sklearn.model_selection import cross_val_score\n",
        "import joblib\n",
        "from collections import Counter"
      ]
    },
    {
      "cell_type": "code",
      "execution_count": 14,
      "metadata": {
        "colab": {
          "base_uri": "https://localhost:8080/"
        },
        "id": "FqOJxw6aV1WO",
        "outputId": "da0e90b5-feef-410e-e236-14e20bf15fa2"
      },
      "outputs": [
        {
          "output_type": "stream",
          "name": "stdout",
          "text": [
            "  0      1      2      3      4      5      6      7      8      9      ...  \\\n",
            "0   a25      0      0      0      0      0      0      0      0      0  ...   \n",
            "1   a25      0      0      0      0      0      0      0      0      0  ...   \n",
            "2   a25      0      0      0      0      0      0      0      0      0  ...   \n",
            "3   a25      0      0      0      0      0      0      0      0      0  ...   \n",
            "4   a25      0      0      0      0      0      0      0      0      0  ...   \n",
            "\n",
            "   12279  12280  12281  12282  12283  12284  12285  12286  12287  12288  \n",
            "0    -20    -20    -20    -20    -19    -20    -22    -19    -22    -23  \n",
            "1    -74    -73    -75    -73    -72    -72    -69    -67    -67    -70  \n",
            "2    -51    -52    -54    -51    -54    -54    -54    -53    -52    -54  \n",
            "3     74     74     74     74     74     74     75     71     76     74  \n",
            "4    129    130    130    133    131    129    124    124    122    117  \n",
            "\n",
            "[5 rows x 12289 columns]\n"
          ]
        }
      ],
      "source": [
        "# Wczytanie danych\n",
        "data = pd.read_csv('emvic.data', sep='\\t', header=None)\n",
        "\n",
        "print(data.head())\n"
      ]
    },
    {
      "cell_type": "code",
      "execution_count": 15,
      "metadata": {
        "colab": {
          "base_uri": "https://localhost:8080/"
        },
        "id": "O5p3CkeLXoDX",
        "outputId": "39b9b3fb-e092-4576-b125-741a95ed437e"
      },
      "outputs": [
        {
          "output_type": "stream",
          "name": "stdout",
          "text": [
            "Liczba próbek:  416\n",
            "Wymiary danych dla punktu wyświetlanego (X, Y):  (416, 2048) (416, 2048)\n",
            "Wymiary danych dla ruchu oczu (Lewe oko X, Y):  (416, 2048) (416, 2048)\n",
            "Wymiary danych dla ruchu oczu (Prawe oko X, Y):  (416, 2048) (416, 2048)\n",
            "Rozkład etykiet w zbiorze treningowym: Counter({'a25': 79, 'a37': 47, 'a40': 39, 'a32': 38, 'a41': 29, 'a42': 28, 'a29': 27, 'a28': 25})\n",
            "Rozkład etykiet w zbiorze testowym: Counter({'a25': 26, 'a37': 16, 'a40': 13, 'a32': 12, 'a41': 10, 'a42': 10, 'a29': 9, 'a28': 8})\n"
          ]
        }
      ],
      "source": [
        "\n",
        "# Podział danych na klasy i cechy\n",
        "classes = data.iloc[:, 0] #etykiety klas\n",
        "lx = data.iloc[:, 4097:6145]  #ruch lewego oka w osi X\n",
        "rx = data.iloc[:, 6145:8193] #ruch prawego oka w osi X\n",
        "ly = data.iloc[:, 8193:10241] #ruch lewego oka w osi Y\n",
        "ry = data.iloc[:, 10241:] #ruch prawego oka w osi Y\n",
        "displayed_point_x = data.iloc[:, 1:2049] #Kolumny 1 do 2049: pozycja X wyświetlanego punktu\n",
        "displayed_point_y = data.iloc[:, 2049:4097] #Kolumny 2049 do 4097: pozycja Y wyświetlanego punktu\n",
        "\n",
        "print(\"Liczba próbek: \", data.shape[0])\n",
        "print(\"Wymiary danych dla punktu wyświetlanego (X, Y): \", displayed_point_x.shape, displayed_point_y.shape)\n",
        "print(\"Wymiary danych dla ruchu oczu (Lewe oko X, Y): \", lx.shape, ly.shape)\n",
        "print(\"Wymiary danych dla ruchu oczu (Prawe oko X, Y): \", rx.shape, ry.shape)\n",
        "\n",
        "samples = np.hstack([lx.values, rx.values, ly.values, ry.values])\n",
        "labels = classes.values\n",
        "\n",
        "# Podział danych na treningowe i testowe\n",
        "(trainSamples, testSamples, trainLabels, testLabels) = train_test_split(samples, labels, random_state=30, stratify=labels)\n",
        "print(\"Rozkład etykiet w zbiorze treningowym:\", Counter(trainLabels))\n",
        "print(\"Rozkład etykiet w zbiorze testowym:\", Counter(testLabels))\n",
        "\n",
        "\n"
      ]
    },
    {
      "cell_type": "code",
      "source": [
        "\n",
        "#Podział danych na zbiory testowe i treningowe\n",
        "trainSamples, testSamples, trainLabels, testLabels = train_test_split(\n",
        "    samples, labels, test_size=0.3, random_state=42, stratify=labels)\n",
        "\n",
        "# Normalizacja danych\n",
        "scaler = StandardScaler()\n",
        "trainSamples = scaler.fit_transform(trainSamples)\n",
        "testSamples = scaler.transform(testSamples)"
      ],
      "metadata": {
        "id": "ejhiugsKaezl"
      },
      "execution_count": 16,
      "outputs": []
    },
    {
      "cell_type": "code",
      "source": [
        "#funkcja do oceny klasyfikatorów\n",
        "def evaluate_classifier(clf, name):\n",
        "    clf.fit(trainSamples, trainLabels)\n",
        "    predictions = clf.predict(testSamples)\n",
        "    accuracy = accuracy_score(testLabels, predictions)\n",
        "    precision = precision_score(testLabels, predictions, average='weighted')\n",
        "    recall = recall_score(testLabels, predictions, average='weighted')\n",
        "    f1 = f1_score(testLabels, predictions, average='weighted')\n",
        "    print(f\"\\n{name}:\")\n",
        "    print(f\"Dokładność: {accuracy:.2f}, Precyzja: {precision:.2f}, Czułość: {recall:.2f}, F1: {f1:.2f}\")\n",
        "    print(confusion_matrix(testLabels, predictions))\n"
      ],
      "metadata": {
        "id": "hIEvrYLSfS6N"
      },
      "execution_count": 17,
      "outputs": []
    },
    {
      "cell_type": "code",
      "execution_count": null,
      "metadata": {
        "colab": {
          "base_uri": "https://localhost:8080/"
        },
        "id": "StJCZTlibIEv",
        "outputId": "90eb994b-ed98-4f4f-8e33-6871b4ab59c2"
      },
      "outputs": [
        {
          "output_type": "stream",
          "name": "stdout",
          "text": [
            "\n",
            "Random Forest:\n",
            "Dokładność: 0.78, Precyzja: 0.78, Czułość: 0.78, F1: 0.77\n",
            "[[29  0  0  1  0  0  0  1]\n",
            " [ 0  5  1  0  3  0  1  0]\n",
            " [ 0  2  9  0  0  0  0  0]\n",
            " [ 5  0  1  8  1  0  0  0]\n",
            " [ 1  0  0  0 15  0  1  2]\n",
            " [ 0  0  0  0  0 16  0  0]\n",
            " [ 0  2  0  0  2  0  7  1]\n",
            " [ 0  0  0  1  1  1  0  8]]\n"
          ]
        }
      ],
      "source": [
        "#Wykorzystanie klasyfikatora Random Forest:\n",
        "clf_rf = RandomForestClassifier(n_estimators=100, class_weight='balanced')\n",
        "evaluate_classifier(clf_rf, \"Random Forest\")"
      ]
    },
    {
      "cell_type": "code",
      "source": [
        "#Wykorzystanie klasyfikatora Gradient Boosting:\n",
        "clf_gb = GradientBoostingClassifier(n_estimators=100)\n",
        "evaluate_classifier(clf_gb, \"Gradient Boosting\")"
      ],
      "metadata": {
        "colab": {
          "base_uri": "https://localhost:8080/"
        },
        "id": "LbFZ7BGRf-OF",
        "outputId": "36c16de1-6ce6-44e5-e3ec-117ee59b3cb7"
      },
      "execution_count": null,
      "outputs": [
        {
          "output_type": "stream",
          "name": "stdout",
          "text": [
            "\n",
            "Gradient Boosting:\n",
            "Dokładność: 0.74, Precyzja: 0.73, Czułość: 0.74, F1: 0.73\n",
            "[[29  0  0  0  0  0  1  1]\n",
            " [ 0  5  1  0  2  1  0  1]\n",
            " [ 0  1  9  0  1  0  0  0]\n",
            " [ 4  0  2  7  2  0  0  0]\n",
            " [ 0  2  1  1 13  0  1  1]\n",
            " [ 0  0  0  1  0 15  0  0]\n",
            " [ 0  1  1  0  2  1  6  1]\n",
            " [ 0  0  0  2  0  1  0  8]]\n"
          ]
        }
      ]
    },
    {
      "cell_type": "code",
      "source": [
        "#Wykorzystanie klasyfikatora KNN:\n",
        "clf_knn = KNeighborsClassifier(n_neighbors=5)\n",
        "evaluate_classifier(clf_knn, \"KNN\")"
      ],
      "metadata": {
        "colab": {
          "base_uri": "https://localhost:8080/"
        },
        "id": "VKCIUqP4moha",
        "outputId": "778ff5f8-3b49-4ea1-c15e-3bb0419e36de"
      },
      "execution_count": null,
      "outputs": [
        {
          "output_type": "stream",
          "name": "stdout",
          "text": [
            "\n",
            "KNN:\n",
            "Dokładność: 0.64, Precyzja: 0.67, Czułość: 0.64, F1: 0.63\n",
            "[[29  0  0  2  0  0  0  0]\n",
            " [ 0  6  1  0  3  0  0  0]\n",
            " [ 0  1  9  1  0  0  0  0]\n",
            " [ 7  0  1  6  0  0  0  1]\n",
            " [ 6  1  2  0  7  1  0  2]\n",
            " [ 3  2  0  0  0 11  0  0]\n",
            " [ 2  0  2  0  3  0  5  0]\n",
            " [ 1  1  1  1  0  0  0  7]]\n"
          ]
        }
      ]
    },
    {
      "cell_type": "code",
      "source": [
        "#Wykorzystanie klasyfikatora SVM:\n",
        "clf_svm = SVC(kernel='linear', C=1)\n",
        "evaluate_classifier(clf_svm, \"SVM\")"
      ],
      "metadata": {
        "colab": {
          "base_uri": "https://localhost:8080/"
        },
        "id": "ez9WcdkWmziL",
        "outputId": "0de455af-57fd-4e0b-e632-e79f4a68a456"
      },
      "execution_count": null,
      "outputs": [
        {
          "output_type": "stream",
          "name": "stdout",
          "text": [
            "\n",
            "SVM:\n",
            "Dokładność: 0.90, Precyzja: 0.92, Czułość: 0.90, F1: 0.91\n",
            "[[29  0  0  0  0  0  0  2]\n",
            " [ 0  8  0  0  0  0  0  2]\n",
            " [ 0  1 10  0  0  0  0  0]\n",
            " [ 0  0  2 11  1  0  0  1]\n",
            " [ 0  1  0  0 17  0  0  1]\n",
            " [ 0  0  0  0  0 16  0  0]\n",
            " [ 0  0  0  0  1  0 11  0]\n",
            " [ 0  0  0  0  0  0  0 11]]\n"
          ]
        }
      ]
    },
    {
      "cell_type": "code",
      "source": [
        "#Wykorzystanie klasyfikatora Logistic Regression:\n",
        "clf_lr = LogisticRegression(C=1, solver='lbfgs', max_iter=1000)\n",
        "evaluate_classifier(clf_lr, \"Logistic Regression\")"
      ],
      "metadata": {
        "colab": {
          "base_uri": "https://localhost:8080/"
        },
        "id": "eBhtep5Rm6Rj",
        "outputId": "3882d930-03bb-4a18-d637-dd279c1a9e1d"
      },
      "execution_count": null,
      "outputs": [
        {
          "output_type": "stream",
          "name": "stdout",
          "text": [
            "\n",
            "Logistic Regression:\n",
            "Dokładność: 0.92, Precyzja: 0.93, Czułość: 0.92, F1: 0.92\n",
            "[[29  0  0  1  0  0  0  1]\n",
            " [ 0  8  0  0  0  0  0  2]\n",
            " [ 0  1 10  0  0  0  0  0]\n",
            " [ 0  0  0 14  1  0  0  0]\n",
            " [ 0  0  0  0 16  0  1  2]\n",
            " [ 0  0  0  0  0 16  0  0]\n",
            " [ 0  0  0  0  0  0 12  0]\n",
            " [ 0  1  0  0  0  0  0 10]]\n"
          ]
        }
      ]
    },
    {
      "cell_type": "code",
      "source": [
        "#Wykorzystanie klasyfikatora Decision Tree:\n",
        "clf_tree = DecisionTreeClassifier(max_depth=100)\n",
        "evaluate_classifier(clf_tree, \"Decision Tree\")"
      ],
      "metadata": {
        "colab": {
          "base_uri": "https://localhost:8080/"
        },
        "id": "datrM2hRnDPs",
        "outputId": "dc527a85-858c-4492-b9ab-59ef9b85cda1"
      },
      "execution_count": null,
      "outputs": [
        {
          "output_type": "stream",
          "name": "stdout",
          "text": [
            "\n",
            "Decision Tree:\n",
            "Dokładność: 0.58, Precyzja: 0.58, Czułość: 0.58, F1: 0.56\n",
            "[[27  0  0  1  0  0  2  1]\n",
            " [ 0  4  1  0  0  1  1  3]\n",
            " [ 0  0 10  1  0  0  0  0]\n",
            " [ 4  1  1  5  1  0  1  2]\n",
            " [ 1  2  1  2  5  2  0  6]\n",
            " [ 2  0  0  0  0 13  1  0]\n",
            " [ 0  3  0  0  1  1  3  4]\n",
            " [ 1  1  0  1  3  0  0  5]]\n"
          ]
        }
      ]
    },
    {
      "cell_type": "code",
      "source": [
        "# Wykorzystanie klasyfikatora Ridge Classifier:\n",
        "ridge_classifier = RidgeClassifier()\n",
        "evaluate_classifier(ridge_classifier, \"Ridge Classifier\")"
      ],
      "metadata": {
        "colab": {
          "base_uri": "https://localhost:8080/"
        },
        "id": "IKPx1nljnN8y",
        "outputId": "d9bc78bf-3782-412d-966f-8d83fd505d47"
      },
      "execution_count": 18,
      "outputs": [
        {
          "output_type": "stream",
          "name": "stdout",
          "text": [
            "\n",
            "Ridge Classifier:\n",
            "Dokładność: 0.87, Precyzja: 0.88, Czułość: 0.87, F1: 0.87\n",
            "[[28  0  0  2  0  0  0  1]\n",
            " [ 0  8  0  0  0  0  1  1]\n",
            " [ 0  0 10  0  0  1  0  0]\n",
            " [ 0  0  2 13  0  0  0  0]\n",
            " [ 0  0  0  0 17  0  1  1]\n",
            " [ 0  0  0  0  2 14  0  0]\n",
            " [ 1  0  0  1  0  0 10  0]\n",
            " [ 0  2  0  0  0  0  0  9]]\n"
          ]
        }
      ]
    },
    {
      "cell_type": "code",
      "execution_count": 20,
      "metadata": {
        "colab": {
          "base_uri": "https://localhost:8080/"
        },
        "id": "E0H18pDssM0w",
        "outputId": "2d37d284-b4a4-4ff2-c368-7abc96506e14"
      },
      "outputs": [
        {
          "output_type": "stream",
          "name": "stdout",
          "text": [
            "SVM: Accuracy: 0.7909 ± 0.0529\n",
            "Ridge Classifier: Accuracy: 0.8606 ± 0.0319\n",
            "Logistic Regression: Accuracy: 0.8773 ± 0.0329\n"
          ]
        }
      ],
      "source": [
        "# cross walidacja:\n",
        "\n",
        "samples = np.hstack([lx.values, rx.values, ly.values, ry.values])\n",
        "labels = classes.values\n",
        "\n",
        "classifiers_cross_val = {\n",
        "    'SVM': SVC(kernel='rbf', C=1),\n",
        "    'Ridge Classifier': RidgeClassifier(),\n",
        "    'Logistic Regression': LogisticRegression(C=1, solver='lbfgs'),\n",
        "}\n",
        "\n",
        "results = {}\n",
        "for name, clf in classifiers_cross_val.items():\n",
        "    scores = cross_val_score(clf, samples, labels, cv=5)\n",
        "    results[name] = scores\n",
        "    print(f\"{name}: Accuracy: {np.mean(scores):.4f} ± {np.std(scores):.4f}\")"
      ]
    },
    {
      "cell_type": "code",
      "source": [
        "# Zastosowanie SelectKBest do redukcji wymiarów\n",
        "selector = SelectKBest(f_classif, k=1500)\n",
        "trainSamples_selected = selector.fit_transform(trainSamples, trainLabels)\n",
        "testSamples_selected = selector.transform(testSamples)\n",
        "\n",
        "# Wybrany klasyfikator - Logistic Regression po selekcji cech\n",
        "clf_lr_selected = LogisticRegression(C=1, solver='lbfgs', max_iter=1000)\n",
        "clf_lr_selected.fit(trainSamples_selected, trainLabels)\n",
        "predictions_lr_selected = clf_lr_selected.predict(testSamples_selected)\n",
        "accuracy_lr_selected = accuracy_score(testLabels, predictions_lr_selected)\n",
        "print(f\"Dokładność Logistic Regression po selekcji cech: {accuracy_lr_selected:.2f}\")\n"
      ],
      "metadata": {
        "colab": {
          "base_uri": "https://localhost:8080/"
        },
        "id": "LEI5WcMuJYli",
        "outputId": "e250fc59-3e2d-4498-fb87-def1156f8105"
      },
      "execution_count": 24,
      "outputs": [
        {
          "output_type": "stream",
          "name": "stdout",
          "text": [
            "Dokładność Logistic Regression po selekcji cech: 0.90\n"
          ]
        }
      ]
    },
    {
      "cell_type": "code",
      "source": [
        "# Zapis modelu\n",
        "joblib.dump(clf_lr_selected, 'logistic_reg.joblib')"
      ],
      "metadata": {
        "colab": {
          "base_uri": "https://localhost:8080/"
        },
        "id": "7Mo56mgmJzE9",
        "outputId": "c8f31da9-81e5-4e90-9d1b-ae95200959cb"
      },
      "execution_count": 26,
      "outputs": [
        {
          "output_type": "execute_result",
          "data": {
            "text/plain": [
              "['logistic_reg.joblib']"
            ]
          },
          "metadata": {},
          "execution_count": 26
        }
      ]
    }
  ],
  "metadata": {
    "colab": {
      "provenance": []
    },
    "kernelspec": {
      "display_name": "Python 3",
      "name": "python3"
    },
    "language_info": {
      "name": "python"
    }
  },
  "nbformat": 4,
  "nbformat_minor": 0
}