{
 "cells": [
  {
   "cell_type": "code",
   "execution_count": 30,
   "metadata": {
    "colab": {
     "base_uri": "https://localhost:8080/"
    },
    "id": "hRSmymtxpUFL",
    "outputId": "b0f547f2-c18f-4e91-e070-d0546e8fdba3"
   },
   "outputs": [
    {
     "name": "stdout",
     "output_type": "stream",
     "text": [
      "--2024-11-15 08:58:56--  http://www.kasprowski.pl/datasets/weather.zip\n",
      "Resolving www.kasprowski.pl (www.kasprowski.pl)... 94.152.164.213\n",
      "Connecting to www.kasprowski.pl (www.kasprowski.pl)|94.152.164.213|:80... connected.\n",
      "HTTP request sent, awaiting response... 200 OK\n",
      "Length: 95380686 (91M) [application/zip]\n",
      "Saving to: ‘weather.zip.1’\n",
      "\n",
      "weather.zip.1       100%[===================>]  90.96M  11.7MB/s    in 8.4s    \n",
      "\n",
      "2024-11-15 08:59:05 (10.8 MB/s) - ‘weather.zip.1’ saved [95380686/95380686]\n",
      "\n",
      "Archive:  weather.zip\n",
      "replace weather/cloudy/cloudy1.jpg? [y]es, [n]o, [A]ll, [N]one, [r]ename: n\n",
      "replace weather/cloudy/cloudy10.jpg? [y]es, [n]o, [A]ll, [N]one, [r]ename: N\n"
     ]
    }
   ],
   "source": [
    "!wget http://www.kasprowski.pl/datasets/weather.zip\n",
    "!unzip weather.zip;\n"
   ]
  },
  {
   "cell_type": "code",
   "execution_count": 25,
   "metadata": {
    "id": "t-sTsSgFq420"
   },
   "outputs": [],
   "source": [
    "import cv2\n",
    "import os\n",
    "import numpy as np\n",
    "from tensorflow.keras.models import Sequential\n",
    "from tensorflow.keras.layers import Dense, Flatten, Conv2D, MaxPooling2D, BatchNormalization, Activation, Dropout, GlobalAveragePooling2D\n",
    "from tensorflow.keras.optimizers import RMSprop, RMSprop\n",
    "from tensorflow.keras.applications import MobileNetV2\n",
    "from sklearn.preprocessing import LabelBinarizer\n",
    "from sklearn.model_selection import train_test_split\n",
    "from sklearn.metrics import classification_report, confusion_matrix, accuracy_score, cohen_kappa_score\n",
    "import matplotlib.pyplot as plt\n",
    "import seaborn as sns\n",
    "from tensorflow.keras.preprocessing.image import ImageDataGenerator\n",
    "from tensorflow.keras.regularizers import l2"
   ]
  },
  {
   "cell_type": "code",
   "execution_count": 6,
   "metadata": {
    "id": "BNy9KcD0ti7-"
   },
   "outputs": [],
   "source": [
    "# Function to load images\n",
    "def load_img(indir):\n",
    "    samples = []\n",
    "    labels = []\n",
    "    for class_dir in os.listdir(indir):\n",
    "        if not os.path.isdir(indir + '/' + class_dir):\n",
    "            continue\n",
    "        print(\"Loading:\", class_dir)\n",
    "        for file in os.listdir(indir + '/' + class_dir):\n",
    "            image = cv2.imread(\"{}/{}/{}\".format(indir, class_dir, file))\n",
    "            # if image is None:\n",
    "            #    continue\n",
    "            image = cv2.resize(image, (64, 64))\n",
    "            samples.append(image)\n",
    "            labels.append(class_dir)\n",
    "    samples = np.array(samples)\n",
    "    labels = np.array(labels)\n",
    "    return samples, labels"
   ]
  },
  {
   "cell_type": "code",
   "execution_count": 7,
   "metadata": {
    "colab": {
     "base_uri": "https://localhost:8080/"
    },
    "id": "YKHXwfUfyXMW",
    "outputId": "99d55b61-93c2-4c4f-b25c-5c10fb106269"
   },
   "outputs": [
    {
     "name": "stdout",
     "output_type": "stream",
     "text": [
      "Loading: sunrise\n",
      "Loading: shine\n",
      "Loading: rain\n",
      "Loading: cloudy\n",
      "Loaded 1123 samples\n",
      "Classes: {'sunrise', 'rain', 'cloudy', 'shine'}\n"
     ]
    }
   ],
   "source": [
    "# Load dataset\n",
    "DATASET_PATH = \"weather\"\n",
    "samples, labels = load_img(DATASET_PATH)\n",
    "print('Loaded', len(samples), 'samples')\n",
    "print('Classes:', set(labels))"
   ]
  },
  {
   "cell_type": "code",
   "execution_count": 9,
   "metadata": {
    "id": "ANQ7LUtEydwv"
   },
   "outputs": [],
   "source": [
    "# Original samples and labels\n",
    "org_samples = samples\n",
    "org_labels = labels\n",
    "\n",
    "# Prepare data for binary classification\n",
    "binary_classes = ['cloudy', 'sunrise']\n",
    "binary_mask = np.isin(labels, binary_classes)\n",
    "samples_binary = org_samples[binary_mask]\n",
    "labels_binary = org_labels[binary_mask]\n",
    "\n",
    "# Encode binary labels\n",
    "lb_binary = LabelBinarizer()\n",
    "labels_binary = lb_binary.fit_transform(labels_binary)\n",
    "\n",
    "# Split data into train and test sets\n",
    "trainSamples_bin, testSamples_bin, trainLabels_bin, testLabels_bin = train_test_split(\n",
    "    samples_binary / 255.0, labels_binary, random_state=22)"
   ]
  },
  {
   "cell_type": "code",
   "execution_count": 10,
   "metadata": {
    "colab": {
     "base_uri": "https://localhost:8080/"
    },
    "id": "D13PVtNAyhTt",
    "outputId": "82e5e26a-c8bd-4dce-dd9f-8b561dea470b"
   },
   "outputs": [
    {
     "name": "stderr",
     "output_type": "stream",
     "text": [
      "/usr/local/lib/python3.10/dist-packages/keras/src/layers/convolutional/base_conv.py:107: UserWarning: Do not pass an `input_shape`/`input_dim` argument to a layer. When using Sequential models, prefer using an `Input(shape)` object as the first layer in the model instead.\n",
      "  super().__init__(activity_regularizer=activity_regularizer, **kwargs)\n"
     ]
    }
   ],
   "source": [
    "# Binary classification model\n",
    "model_bin = Sequential([\n",
    "    Conv2D(16, (3, 3), padding=\"same\", input_shape=(64, 64, 3)),\n",
    "    BatchNormalization(),\n",
    "    Activation(\"relu\"),\n",
    "    MaxPooling2D(pool_size=(2, 2)),\n",
    "    Conv2D(32, (3, 3), padding=\"same\"),\n",
    "    BatchNormalization(),\n",
    "    Activation(\"relu\"),\n",
    "    MaxPooling2D(pool_size=(2, 2)),\n",
    "    Dropout(0.25),\n",
    "    Flatten(),\n",
    "    Dense(512),\n",
    "    Activation(\"relu\"),\n",
    "    Dense(1),\n",
    "    Activation(\"sigmoid\")\n",
    "])"
   ]
  },
  {
   "cell_type": "code",
   "execution_count": 11,
   "metadata": {
    "colab": {
     "base_uri": "https://localhost:8080/"
    },
    "id": "B1seBTLVyyQP",
    "outputId": "6b0055ae-ecfa-4e99-85d3-ee6dbcd0f267"
   },
   "outputs": [
    {
     "name": "stdout",
     "output_type": "stream",
     "text": [
      "Epoch 1/10\n",
      "\u001b[1m16/16\u001b[0m \u001b[32m━━━━━━━━━━━━━━━━━━━━\u001b[0m\u001b[37m\u001b[0m \u001b[1m11s\u001b[0m 245ms/step - accuracy: 0.8608 - loss: 0.5627 - val_accuracy: 0.6182 - val_loss: 0.7661\n",
      "Epoch 2/10\n",
      "\u001b[1m16/16\u001b[0m \u001b[32m━━━━━━━━━━━━━━━━━━━━\u001b[0m\u001b[37m\u001b[0m \u001b[1m3s\u001b[0m 170ms/step - accuracy: 0.9842 - loss: 0.0755 - val_accuracy: 0.9758 - val_loss: 0.0709\n",
      "Epoch 3/10\n",
      "\u001b[1m16/16\u001b[0m \u001b[32m━━━━━━━━━━━━━━━━━━━━\u001b[0m\u001b[37m\u001b[0m \u001b[1m6s\u001b[0m 206ms/step - accuracy: 0.9940 - loss: 0.0251 - val_accuracy: 0.9818 - val_loss: 0.0521\n",
      "Epoch 4/10\n",
      "\u001b[1m16/16\u001b[0m \u001b[32m━━━━━━━━━━━━━━━━━━━━\u001b[0m\u001b[37m\u001b[0m \u001b[1m4s\u001b[0m 243ms/step - accuracy: 0.9844 - loss: 0.1218 - val_accuracy: 0.9879 - val_loss: 0.0350\n",
      "Epoch 5/10\n",
      "\u001b[1m16/16\u001b[0m \u001b[32m━━━━━━━━━━━━━━━━━━━━\u001b[0m\u001b[37m\u001b[0m \u001b[1m4s\u001b[0m 170ms/step - accuracy: 0.9987 - loss: 0.0063 - val_accuracy: 0.9818 - val_loss: 0.0577\n",
      "Epoch 6/10\n",
      "\u001b[1m16/16\u001b[0m \u001b[32m━━━━━━━━━━━━━━━━━━━━\u001b[0m\u001b[37m\u001b[0m \u001b[1m3s\u001b[0m 170ms/step - accuracy: 0.9987 - loss: 0.0114 - val_accuracy: 0.9697 - val_loss: 0.0923\n",
      "Epoch 7/10\n",
      "\u001b[1m16/16\u001b[0m \u001b[32m━━━━━━━━━━━━━━━━━━━━\u001b[0m\u001b[37m\u001b[0m \u001b[1m3s\u001b[0m 177ms/step - accuracy: 1.0000 - loss: 0.0017 - val_accuracy: 0.9636 - val_loss: 0.1252\n",
      "Epoch 8/10\n",
      "\u001b[1m16/16\u001b[0m \u001b[32m━━━━━━━━━━━━━━━━━━━━\u001b[0m\u001b[37m\u001b[0m \u001b[1m5s\u001b[0m 169ms/step - accuracy: 0.9967 - loss: 0.0034 - val_accuracy: 0.9333 - val_loss: 0.2537\n",
      "Epoch 9/10\n",
      "\u001b[1m16/16\u001b[0m \u001b[32m━━━━━━━━━━━━━━━━━━━━\u001b[0m\u001b[37m\u001b[0m \u001b[1m5s\u001b[0m 167ms/step - accuracy: 0.9990 - loss: 0.0031 - val_accuracy: 0.9697 - val_loss: 0.0876\n",
      "Epoch 10/10\n",
      "\u001b[1m16/16\u001b[0m \u001b[32m━━━━━━━━━━━━━━━━━━━━\u001b[0m\u001b[37m\u001b[0m \u001b[1m6s\u001b[0m 229ms/step - accuracy: 0.9939 - loss: 0.0214 - val_accuracy: 0.9576 - val_loss: 0.2948\n"
     ]
    }
   ],
   "source": [
    "model_bin.compile(loss='binary_crossentropy', optimizer=\"adam\", metrics=['accuracy'])\n",
    "\n",
    "# Train binary classification model\n",
    "history_bin = model_bin.fit(trainSamples_bin, trainLabels_bin, epochs=10, validation_data=(testSamples_bin, testLabels_bin))\n"
   ]
  },
  {
   "cell_type": "code",
   "execution_count": 12,
   "metadata": {
    "colab": {
     "base_uri": "https://localhost:8080/"
    },
    "id": "6LFRbKmJzJMw",
    "outputId": "946b028a-f0eb-40dd-b091-f2b613edfbd8"
   },
   "outputs": [
    {
     "name": "stdout",
     "output_type": "stream",
     "text": [
      "\u001b[1m6/6\u001b[0m \u001b[32m━━━━━━━━━━━━━━━━━━━━\u001b[0m\u001b[37m\u001b[0m \u001b[1m1s\u001b[0m 104ms/step\n",
      "Binary Confusion Matrix:\n",
      "[[71  1]\n",
      " [ 6 87]]\n",
      "Classification Report:\n",
      "               precision    recall  f1-score   support\n",
      "\n",
      "           0       0.92      0.99      0.95        72\n",
      "           1       0.99      0.94      0.96        93\n",
      "\n",
      "    accuracy                           0.96       165\n",
      "   macro avg       0.96      0.96      0.96       165\n",
      "weighted avg       0.96      0.96      0.96       165\n",
      "\n",
      "Cohen's Kappa: 0.9144254278728606\n",
      "Accuracy: 0.9575757575757575\n"
     ]
    }
   ],
   "source": [
    "# Evaluate binary model\n",
    "binary_pred = (model_bin.predict(testSamples_bin) > 0.5).astype(int)\n",
    "\n",
    "print(\"Binary Confusion Matrix:\")\n",
    "print(confusion_matrix(testLabels_bin, binary_pred))\n",
    "print(\"Classification Report:\\n\", classification_report(testLabels_bin, binary_pred))\n",
    "print(\"Cohen's Kappa:\", cohen_kappa_score(testLabels_bin, binary_pred))\n",
    "print(\"Accuracy:\", accuracy_score(testLabels_bin, binary_pred))\n"
   ]
  },
  {
   "cell_type": "code",
   "execution_count": 13,
   "metadata": {
    "colab": {
     "base_uri": "https://localhost:8080/",
     "height": 472
    },
    "id": "0JaoIuInzTYF",
    "outputId": "dba1ac44-74c1-4722-d38f-7d081ba82c18"
   },
   "outputs": [
    {
     "data": {
      "image/png": "[encoded data removed]",
      "text/plain": [
       "<Figure size 640x480 with 2 Axes>"
      ]
     },
     "metadata": {},
     "output_type": "display_data"
    }
   ],
   "source": [
    "# Plot confusion matrix\n",
    "sns.heatmap(confusion_matrix(testLabels_bin, binary_pred), annot=True, fmt='d', cmap='Blues', xticklabels=binary_classes, yticklabels=binary_classes)\n",
    "plt.title(\"Binary Classification Confusion Matrix\")\n",
    "plt.xlabel(\"Predicted\")\n",
    "plt.ylabel(\"Actual\")\n",
    "plt.show()"
   ]
  },
  {
   "cell_type": "code",
   "execution_count": 19,
   "metadata": {
    "id": "YzHsJ_Ok2h2T"
   },
   "outputs": [],
   "source": [
    "# Data Augmentation\n",
    "data_gen = ImageDataGenerator(\n",
    "    rotation_range=20,\n",
    "    width_shift_range=0.2,\n",
    "    height_shift_range=0.2,\n",
    "    shear_range=0.2,\n",
    "    zoom_range=0.2,\n",
    "    horizontal_flip=True,\n",
    "    fill_mode=\"nearest\"\n",
    ")"
   ]
  },
  {
   "cell_type": "code",
   "execution_count": 20,
   "metadata": {
    "colab": {
     "base_uri": "https://localhost:8080/"
    },
    "id": "SIEvOBuAza-d",
    "outputId": "af922cd1-1ada-4277-8329-db664455c3e0"
   },
   "outputs": [
    {
     "name": "stderr",
     "output_type": "stream",
     "text": [
      "/usr/local/lib/python3.10/dist-packages/keras/src/layers/convolutional/base_conv.py:107: UserWarning: Do not pass an `input_shape`/`input_dim` argument to a layer. When using Sequential models, prefer using an `Input(shape)` object as the first layer in the model instead.\n",
      "  super().__init__(activity_regularizer=activity_regularizer, **kwargs)\n"
     ]
    }
   ],
   "source": [
    "# Prepare data to multi-class classification\n",
    "lb_multi = LabelBinarizer()\n",
    "labels_multi = lb_multi.fit_transform(org_labels)\n",
    "\n",
    "# Split data into train and test\n",
    "trainSamples_multi, testSamples_multi, trainLabels_multi, testLabels_multi = train_test_split(\n",
    "    org_samples / 255.0, labels_multi, random_state=22)\n",
    "\n",
    "# Multi-class classification model\n",
    "model_multi = Sequential([\n",
    "    Conv2D(32, (3, 3), padding=\"same\", input_shape=(64, 64, 3)),\n",
    "    BatchNormalization(),\n",
    "    Activation(\"relu\"),\n",
    "    MaxPooling2D(pool_size=(2, 2)),\n",
    "\n",
    "    Conv2D(64, (3, 3), padding=\"same\", kernel_regularizer=l2(0.001)),\n",
    "    BatchNormalization(),\n",
    "    Activation(\"relu\"),\n",
    "    MaxPooling2D(pool_size=(2, 2)),\n",
    "    Dropout(0.3),\n",
    "\n",
    "    Conv2D(128, (3, 3), padding=\"same\", kernel_regularizer=l2(0.001)),\n",
    "    BatchNormalization(),\n",
    "    Activation(\"relu\"),\n",
    "    MaxPooling2D(pool_size=(2, 2)),\n",
    "    Dropout(0.4),\n",
    "\n",
    "    Flatten(),\n",
    "    Dense(256, kernel_regularizer=l2(0.001)),\n",
    "    Activation(\"relu\"),\n",
    "    Dropout(0.5),\n",
    "    Dense(len(lb_multi.classes_)),\n",
    "    Activation(\"softmax\")\n",
    "])"
   ]
  },
  {
   "cell_type": "code",
   "execution_count": 21,
   "metadata": {
    "colab": {
     "base_uri": "https://localhost:8080/"
    },
    "id": "UiAqhvXPzpf3",
    "outputId": "8330396f-d020-4010-9fc8-f9a635036681"
   },
   "outputs": [
    {
     "name": "stdout",
     "output_type": "stream",
     "text": [
      "Epoch 1/25\n"
     ]
    },
    {
     "name": "stderr",
     "output_type": "stream",
     "text": [
      "/usr/local/lib/python3.10/dist-packages/keras/src/trainers/data_adapters/py_dataset_adapter.py:121: UserWarning: Your `PyDataset` class should call `super().__init__(**kwargs)` in its constructor. `**kwargs` can include `workers`, `use_multiprocessing`, `max_queue_size`. Do not pass these arguments to `fit()`, as they will be ignored.\n",
      "  self._warn_if_super_not_called()\n"
     ]
    },
    {
     "name": "stdout",
     "output_type": "stream",
     "text": [
      "\u001b[1m26/26\u001b[0m \u001b[32m━━━━━━━━━━━━━━━━━━━━\u001b[0m\u001b[37m\u001b[0m \u001b[1m15s\u001b[0m 413ms/step - accuracy: 0.4871 - loss: 4.7805 - val_accuracy: 0.7224 - val_loss: 1.5637\n",
      "Epoch 2/25\n",
      "\u001b[1m 1/26\u001b[0m \u001b[37m━━━━━━━━━━━━━━━━━━━━\u001b[0m \u001b[1m13s\u001b[0m 543ms/step - accuracy: 0.6562 - loss: 1.7644"
     ]
    },
    {
     "name": "stderr",
     "output_type": "stream",
     "text": [
      "/usr/lib/python3.10/contextlib.py:153: UserWarning: Your input ran out of data; interrupting training. Make sure that your dataset or generator can generate at least `steps_per_epoch * epochs` batches. You may need to use the `.repeat()` function when building your dataset.\n",
      "  self.gen.throw(typ, value, traceback)\n"
     ]
    },
    {
     "name": "stdout",
     "output_type": "stream",
     "text": [
      "\b\b\b\b\b\b\b\b\b\b\b\b\b\b\b\b\b\b\b\b\b\b\b\b\b\b\b\b\b\b\b\b\b\b\b\b\b\b\b\b\b\b\b\b\b\b\b\b\b\b\b\b\b\b\b\b\b\b\b\b\b\b\b\b\b\b\b\b\b\b\b\b\b\b\b\r\u001b[1m26/26\u001b[0m \u001b[32m━━━━━━━━━━━━━━━━━━━━\u001b[0m\u001b[37m\u001b[0m \u001b[1m2s\u001b[0m 53ms/step - accuracy: 0.6562 - loss: 1.7644 - val_accuracy: 0.7082 - val_loss: 1.5766\n",
      "Epoch 3/25\n",
      "\u001b[1m26/26\u001b[0m \u001b[32m━━━━━━━━━━━━━━━━━━━━\u001b[0m\u001b[37m\u001b[0m \u001b[1m19s\u001b[0m 439ms/step - accuracy: 0.7195 - loss: 1.3169 - val_accuracy: 0.3737 - val_loss: 1.8276\n",
      "Epoch 4/25\n",
      "\u001b[1m26/26\u001b[0m \u001b[32m━━━━━━━━━━━━━━━━━━━━\u001b[0m\u001b[37m\u001b[0m \u001b[1m1s\u001b[0m 27ms/step - accuracy: 0.6875 - loss: 1.1218 - val_accuracy: 0.3772 - val_loss: 1.8415\n",
      "Epoch 5/25\n",
      "\u001b[1m26/26\u001b[0m \u001b[32m━━━━━━━━━━━━━━━━━━━━\u001b[0m\u001b[37m\u001b[0m \u001b[1m12s\u001b[0m 439ms/step - accuracy: 0.7756 - loss: 1.1983 - val_accuracy: 0.3274 - val_loss: 2.2141\n",
      "Epoch 6/25\n",
      "\u001b[1m26/26\u001b[0m \u001b[32m━━━━━━━━━━━━━━━━━━━━\u001b[0m\u001b[37m\u001b[0m \u001b[1m1s\u001b[0m 27ms/step - accuracy: 0.8438 - loss: 1.1284 - val_accuracy: 0.3274 - val_loss: 2.1933\n",
      "Epoch 7/25\n",
      "\u001b[1m26/26\u001b[0m \u001b[32m━━━━━━━━━━━━━━━━━━━━\u001b[0m\u001b[37m\u001b[0m \u001b[1m12s\u001b[0m 439ms/step - accuracy: 0.8035 - loss: 1.1421 - val_accuracy: 0.3416 - val_loss: 2.4207\n",
      "Epoch 8/25\n",
      "\u001b[1m26/26\u001b[0m \u001b[32m━━━━━━━━━━━━━━━━━━━━\u001b[0m\u001b[37m\u001b[0m \u001b[1m1s\u001b[0m 27ms/step - accuracy: 0.8438 - loss: 0.9722 - val_accuracy: 0.3310 - val_loss: 2.4625\n",
      "Epoch 9/25\n",
      "\u001b[1m26/26\u001b[0m \u001b[32m━━━━━━━━━━━━━━━━━━━━\u001b[0m\u001b[37m\u001b[0m \u001b[1m19s\u001b[0m 394ms/step - accuracy: 0.8203 - loss: 1.0492 - val_accuracy: 0.2989 - val_loss: 2.3840\n",
      "Epoch 10/25\n",
      "\u001b[1m26/26\u001b[0m \u001b[32m━━━━━━━━━━━━━━━━━━━━\u001b[0m\u001b[37m\u001b[0m \u001b[1m1s\u001b[0m 26ms/step - accuracy: 0.7812 - loss: 1.2175 - val_accuracy: 0.3060 - val_loss: 2.3968\n",
      "Epoch 11/25\n",
      "\u001b[1m26/26\u001b[0m \u001b[32m━━━━━━━━━━━━━━━━━━━━\u001b[0m\u001b[37m\u001b[0m \u001b[1m20s\u001b[0m 436ms/step - accuracy: 0.8240 - loss: 1.0444 - val_accuracy: 0.3025 - val_loss: 2.0484\n",
      "Epoch 12/25\n",
      "\u001b[1m26/26\u001b[0m \u001b[32m━━━━━━━━━━━━━━━━━━━━\u001b[0m\u001b[37m\u001b[0m \u001b[1m1s\u001b[0m 27ms/step - accuracy: 0.8125 - loss: 1.1004 - val_accuracy: 0.3060 - val_loss: 2.0510\n",
      "Epoch 13/25\n",
      "\u001b[1m26/26\u001b[0m \u001b[32m━━━━━━━━━━━━━━━━━━━━\u001b[0m\u001b[37m\u001b[0m \u001b[1m19s\u001b[0m 408ms/step - accuracy: 0.8246 - loss: 1.0476 - val_accuracy: 0.3737 - val_loss: 1.9131\n",
      "Epoch 14/25\n",
      "\u001b[1m26/26\u001b[0m \u001b[32m━━━━━━━━━━━━━━━━━━━━\u001b[0m\u001b[37m\u001b[0m \u001b[1m2s\u001b[0m 52ms/step - accuracy: 0.8438 - loss: 1.0203 - val_accuracy: 0.3772 - val_loss: 1.8936\n",
      "Epoch 15/25\n",
      "\u001b[1m26/26\u001b[0m \u001b[32m━━━━━━━━━━━━━━━━━━━━\u001b[0m\u001b[37m\u001b[0m \u001b[1m19s\u001b[0m 438ms/step - accuracy: 0.8195 - loss: 0.9878 - val_accuracy: 0.4164 - val_loss: 1.9556\n",
      "Epoch 16/25\n",
      "\u001b[1m26/26\u001b[0m \u001b[32m━━━━━━━━━━━━━━━━━━━━\u001b[0m\u001b[37m\u001b[0m \u001b[1m1s\u001b[0m 26ms/step - accuracy: 0.7500 - loss: 1.2437 - val_accuracy: 0.4235 - val_loss: 1.9478\n",
      "Epoch 17/25\n",
      "\u001b[1m26/26\u001b[0m \u001b[32m━━━━━━━━━━━━━━━━━━━━\u001b[0m\u001b[37m\u001b[0m \u001b[1m18s\u001b[0m 374ms/step - accuracy: 0.8627 - loss: 0.8812 - val_accuracy: 0.4804 - val_loss: 1.7818\n",
      "Epoch 18/25\n",
      "\u001b[1m26/26\u001b[0m \u001b[32m━━━━━━━━━━━━━━━━━━━━\u001b[0m\u001b[37m\u001b[0m \u001b[1m2s\u001b[0m 53ms/step - accuracy: 0.8438 - loss: 0.9054 - val_accuracy: 0.4911 - val_loss: 1.8152\n",
      "Epoch 19/25\n",
      "\u001b[1m26/26\u001b[0m \u001b[32m━━━━━━━━━━━━━━━━━━━━\u001b[0m\u001b[37m\u001b[0m \u001b[1m20s\u001b[0m 437ms/step - accuracy: 0.8236 - loss: 0.9340 - val_accuracy: 0.4840 - val_loss: 1.7109\n",
      "Epoch 20/25\n",
      "\u001b[1m26/26\u001b[0m \u001b[32m━━━━━━━━━━━━━━━━━━━━\u001b[0m\u001b[37m\u001b[0m \u001b[1m1s\u001b[0m 27ms/step - accuracy: 0.8750 - loss: 0.7305 - val_accuracy: 0.4875 - val_loss: 1.7046\n",
      "Epoch 21/25\n",
      "\u001b[1m26/26\u001b[0m \u001b[32m━━━━━━━━━━━━━━━━━━━━\u001b[0m\u001b[37m\u001b[0m \u001b[1m11s\u001b[0m 424ms/step - accuracy: 0.8597 - loss: 0.8756 - val_accuracy: 0.5160 - val_loss: 1.9054\n",
      "Epoch 22/25\n",
      "\u001b[1m26/26\u001b[0m \u001b[32m━━━━━━━━━━━━━━━━━━━━\u001b[0m\u001b[37m\u001b[0m \u001b[1m1s\u001b[0m 27ms/step - accuracy: 0.9062 - loss: 0.8110 - val_accuracy: 0.5196 - val_loss: 1.8879\n",
      "Epoch 23/25\n",
      "\u001b[1m26/26\u001b[0m \u001b[32m━━━━━━━━━━━━━━━━━━━━\u001b[0m\u001b[37m\u001b[0m \u001b[1m12s\u001b[0m 440ms/step - accuracy: 0.8821 - loss: 0.7707 - val_accuracy: 0.5872 - val_loss: 1.5615\n",
      "Epoch 24/25\n",
      "\u001b[1m26/26\u001b[0m \u001b[32m━━━━━━━━━━━━━━━━━━━━\u001b[0m\u001b[37m\u001b[0m \u001b[1m1s\u001b[0m 27ms/step - accuracy: 0.7500 - loss: 1.5300 - val_accuracy: 0.5765 - val_loss: 1.5597\n",
      "Epoch 25/25\n",
      "\u001b[1m26/26\u001b[0m \u001b[32m━━━━━━━━━━━━━━━━━━━━\u001b[0m\u001b[37m\u001b[0m \u001b[1m12s\u001b[0m 441ms/step - accuracy: 0.8718 - loss: 0.8003 - val_accuracy: 0.7509 - val_loss: 0.9957\n"
     ]
    }
   ],
   "source": [
    "model_multi.compile(loss='categorical_crossentropy', optimizer=\"adam\", metrics=['accuracy'])\n",
    "\n",
    "# Train multi-class classification model\n",
    "batch_size = 32\n",
    "train_augmented = data_gen.flow(trainSamples_multi, trainLabels_multi, batch_size=batch_size)\n",
    "history_multi = model_multi.fit(\n",
    "    train_augmented,\n",
    "    steps_per_epoch=len(trainSamples_multi) // batch_size,\n",
    "    validation_data=(testSamples_multi, testLabels_multi),\n",
    "    epochs=25\n",
    ")"
   ]
  },
  {
   "cell_type": "code",
   "execution_count": 22,
   "metadata": {
    "colab": {
     "base_uri": "https://localhost:8080/"
    },
    "id": "Ce4asUd40Lcg",
    "outputId": "c67cd3d7-dc6e-4614-9eb7-da76ef57e0f1"
   },
   "outputs": [
    {
     "name": "stdout",
     "output_type": "stream",
     "text": [
      "\u001b[1m9/9\u001b[0m \u001b[32m━━━━━━━━━━━━━━━━━━━━\u001b[0m\u001b[37m\u001b[0m \u001b[1m2s\u001b[0m 235ms/step\n",
      "Improved Multi-class Confusion Matrix:\n",
      "[[75  0  8  0]\n",
      " [28 16  2  0]\n",
      " [10  0 48  0]\n",
      " [21  0  1 72]]\n",
      "Classification Report:\n",
      "               precision    recall  f1-score   support\n",
      "\n",
      "      cloudy       0.56      0.90      0.69        83\n",
      "        rain       1.00      0.35      0.52        46\n",
      "       shine       0.81      0.83      0.82        58\n",
      "     sunrise       1.00      0.77      0.87        94\n",
      "\n",
      "    accuracy                           0.75       281\n",
      "   macro avg       0.84      0.71      0.72       281\n",
      "weighted avg       0.83      0.75      0.75       281\n",
      "\n",
      "Cohen's Kappa: 0.6543847627079928\n",
      "Accuracy: 0.7508896797153025\n"
     ]
    }
   ],
   "source": [
    "# Evaluate multi-class model\n",
    "multi_pred = np.argmax(model_multi.predict(testSamples_multi), axis=1)\n",
    "multi_true = np.argmax(testLabels_multi, axis=1)\n",
    "\n",
    "print(\"Improved Multi-class Confusion Matrix:\")\n",
    "print(confusion_matrix(multi_true, multi_pred))\n",
    "print(\"Classification Report:\\n\", classification_report(multi_true, multi_pred, target_names=lb_multi.classes_))\n",
    "print(\"Cohen's Kappa:\", cohen_kappa_score(multi_true, multi_pred))\n",
    "print(\"Accuracy:\", accuracy_score(multi_true, multi_pred))"
   ]
  },
  {
   "cell_type": "code",
   "execution_count": 23,
   "metadata": {
    "colab": {
     "base_uri": "https://localhost:8080/",
     "height": 472
    },
    "id": "bst0iwYS0TDA",
    "outputId": "1f72fdca-19fe-4b44-cccf-576e32b35921"
   },
   "outputs": [
    {
     "data": {
      "image/png": "[encoded data removed]",
      "text/plain": [
       "<Figure size 640x480 with 2 Axes>"
      ]
     },
     "metadata": {},
     "output_type": "display_data"
    }
   ],
   "source": [
    "# Plot confusion matrix\n",
    "sns.heatmap(confusion_matrix(multi_true, multi_pred), annot=True, fmt='d', cmap='Blues', xticklabels=lb_multi.classes_, yticklabels=lb_multi.classes_)\n",
    "plt.title(\"Improved Multi-class Classification Confusion Matrix\")\n",
    "plt.xlabel(\"Predicted\")\n",
    "plt.ylabel(\"Actual\")\n",
    "plt.show()"
   ]
  },
  {
   "cell_type": "code",
   "execution_count": 26,
   "metadata": {
    "colab": {
     "base_uri": "https://localhost:8080/"
    },
    "id": "j81BTOlWAW_B",
    "outputId": "eeefa8c5-7acf-4e6f-8a89-a36f425d8179"
   },
   "outputs": [
    {
     "name": "stderr",
     "output_type": "stream",
     "text": [
      "<ipython-input-26-f0c99873afbc>:2: UserWarning: `input_shape` is undefined or non-square, or `rows` is not in [96, 128, 160, 192, 224]. Weights for input shape (224, 224) will be loaded as the default.\n",
      "  base_model = MobileNetV2(weights=\"imagenet\", include_top=False, input_shape=(64, 64, 3))\n"
     ]
    },
    {
     "name": "stdout",
     "output_type": "stream",
     "text": [
      "Downloading data from https://storage.googleapis.com/tensorflow/keras-applications/mobilenet_v2/mobilenet_v2_weights_tf_dim_ordering_tf_kernels_1.0_224_no_top.h5\n",
      "\u001b[1m9406464/9406464\u001b[0m \u001b[32m━━━━━━━━━━━━━━━━━━━━\u001b[0m\u001b[37m\u001b[0m \u001b[1m0s\u001b[0m 0us/step\n"
     ]
    }
   ],
   "source": [
    "# ADDITION: Transfer Learning - MobileNetV2\n",
    "base_model = MobileNetV2(weights=\"imagenet\", include_top=False, input_shape=(64, 64, 3))\n",
    "base_model.trainable = False\n",
    "\n",
    "# Build model\n",
    "model_multi_tl = Sequential([\n",
    "    base_model,\n",
    "    GlobalAveragePooling2D(),\n",
    "    Dense(256, activation='relu'),\n",
    "    Dropout(0.4),\n",
    "    Dense(len(lb_multi.classes_), activation='softmax')\n",
    "])\n",
    "\n",
    "# Compilation with RMSprop\n",
    "model_multi_tl.compile(optimizer=RMSprop(learning_rate=0.0001), loss='categorical_crossentropy', metrics=['accuracy'])\n",
    "\n"
   ]
  },
  {
   "cell_type": "code",
   "execution_count": 27,
   "metadata": {
    "colab": {
     "base_uri": "https://localhost:8080/"
    },
    "id": "uMq-z0qGAt_L",
    "outputId": "1cbf711f-9fe3-4346-c6d6-1ac18dbf8a62"
   },
   "outputs": [
    {
     "name": "stdout",
     "output_type": "stream",
     "text": [
      "Epoch 1/25\n"
     ]
    },
    {
     "name": "stderr",
     "output_type": "stream",
     "text": [
      "/usr/local/lib/python3.10/dist-packages/keras/src/trainers/data_adapters/py_dataset_adapter.py:121: UserWarning: Your `PyDataset` class should call `super().__init__(**kwargs)` in its constructor. `**kwargs` can include `workers`, `use_multiprocessing`, `max_queue_size`. Do not pass these arguments to `fit()`, as they will be ignored.\n",
      "  self._warn_if_super_not_called()\n"
     ]
    },
    {
     "name": "stdout",
     "output_type": "stream",
     "text": [
      "\u001b[1m26/26\u001b[0m \u001b[32m━━━━━━━━━━━━━━━━━━━━\u001b[0m\u001b[37m\u001b[0m \u001b[1m20s\u001b[0m 412ms/step - accuracy: 0.3291 - loss: 1.5665 - val_accuracy: 0.6441 - val_loss: 1.0325\n",
      "Epoch 2/25\n",
      "\u001b[1m 1/26\u001b[0m \u001b[37m━━━━━━━━━━━━━━━━━━━━\u001b[0m \u001b[1m3s\u001b[0m 143ms/step - accuracy: 0.3750 - loss: 1.6870"
     ]
    },
    {
     "name": "stderr",
     "output_type": "stream",
     "text": [
      "/usr/lib/python3.10/contextlib.py:153: UserWarning: Your input ran out of data; interrupting training. Make sure that your dataset or generator can generate at least `steps_per_epoch * epochs` batches. You may need to use the `.repeat()` function when building your dataset.\n",
      "  self.gen.throw(typ, value, traceback)\n"
     ]
    },
    {
     "name": "stdout",
     "output_type": "stream",
     "text": [
      "\b\b\b\b\b\b\b\b\b\b\b\b\b\b\b\b\b\b\b\b\b\b\b\b\b\b\b\b\b\b\b\b\b\b\b\b\b\b\b\b\b\b\b\b\b\b\b\b\b\b\b\b\b\b\b\b\b\b\b\b\b\b\b\b\b\b\b\b\b\b\b\b\b\b\r\u001b[1m26/26\u001b[0m \u001b[32m━━━━━━━━━━━━━━━━━━━━\u001b[0m\u001b[37m\u001b[0m \u001b[1m2s\u001b[0m 66ms/step - accuracy: 0.3750 - loss: 1.6870 - val_accuracy: 0.6370 - val_loss: 1.0281\n",
      "Epoch 3/25\n",
      "\u001b[1m26/26\u001b[0m \u001b[32m━━━━━━━━━━━━━━━━━━━━\u001b[0m\u001b[37m\u001b[0m \u001b[1m8s\u001b[0m 271ms/step - accuracy: 0.4703 - loss: 1.2612 - val_accuracy: 0.7509 - val_loss: 0.8379\n",
      "Epoch 4/25\n",
      "\u001b[1m26/26\u001b[0m \u001b[32m━━━━━━━━━━━━━━━━━━━━\u001b[0m\u001b[37m\u001b[0m \u001b[1m2s\u001b[0m 60ms/step - accuracy: 0.5000 - loss: 1.2962 - val_accuracy: 0.7509 - val_loss: 0.8331\n",
      "Epoch 5/25\n",
      "\u001b[1m26/26\u001b[0m \u001b[32m━━━━━━━━━━━━━━━━━━━━\u001b[0m\u001b[37m\u001b[0m \u001b[1m9s\u001b[0m 319ms/step - accuracy: 0.5962 - loss: 1.0549 - val_accuracy: 0.7758 - val_loss: 0.7225\n",
      "Epoch 6/25\n",
      "\u001b[1m26/26\u001b[0m \u001b[32m━━━━━━━━━━━━━━━━━━━━\u001b[0m\u001b[37m\u001b[0m \u001b[1m2s\u001b[0m 57ms/step - accuracy: 0.5625 - loss: 1.0482 - val_accuracy: 0.7758 - val_loss: 0.7187\n",
      "Epoch 7/25\n",
      "\u001b[1m26/26\u001b[0m \u001b[32m━━━━━━━━━━━━━━━━━━━━\u001b[0m\u001b[37m\u001b[0m \u001b[1m20s\u001b[0m 354ms/step - accuracy: 0.6622 - loss: 0.9194 - val_accuracy: 0.7936 - val_loss: 0.6465\n",
      "Epoch 8/25\n",
      "\u001b[1m26/26\u001b[0m \u001b[32m━━━━━━━━━━━━━━━━━━━━\u001b[0m\u001b[37m\u001b[0m \u001b[1m2s\u001b[0m 59ms/step - accuracy: 0.6562 - loss: 0.9171 - val_accuracy: 0.8114 - val_loss: 0.6386\n",
      "Epoch 9/25\n",
      "\u001b[1m26/26\u001b[0m \u001b[32m━━━━━━━━━━━━━━━━━━━━\u001b[0m\u001b[37m\u001b[0m \u001b[1m9s\u001b[0m 305ms/step - accuracy: 0.6755 - loss: 0.8298 - val_accuracy: 0.8256 - val_loss: 0.5839\n",
      "Epoch 10/25\n",
      "\u001b[1m26/26\u001b[0m \u001b[32m━━━━━━━━━━━━━━━━━━━━\u001b[0m\u001b[37m\u001b[0m \u001b[1m1s\u001b[0m 48ms/step - accuracy: 0.7500 - loss: 0.7264 - val_accuracy: 0.8292 - val_loss: 0.5803\n",
      "Epoch 11/25\n",
      "\u001b[1m26/26\u001b[0m \u001b[32m━━━━━━━━━━━━━━━━━━━━\u001b[0m\u001b[37m\u001b[0m \u001b[1m5s\u001b[0m 157ms/step - accuracy: 0.7113 - loss: 0.7396 - val_accuracy: 0.8292 - val_loss: 0.5494\n",
      "Epoch 12/25\n",
      "\u001b[1m26/26\u001b[0m \u001b[32m━━━━━━━━━━━━━━━━━━━━\u001b[0m\u001b[37m\u001b[0m \u001b[1m1s\u001b[0m 29ms/step - accuracy: 0.8125 - loss: 0.7657 - val_accuracy: 0.8292 - val_loss: 0.5505\n",
      "Epoch 13/25\n",
      "\u001b[1m26/26\u001b[0m \u001b[32m━━━━━━━━━━━━━━━━━━━━\u001b[0m\u001b[37m\u001b[0m \u001b[1m11s\u001b[0m 222ms/step - accuracy: 0.7393 - loss: 0.6636 - val_accuracy: 0.8292 - val_loss: 0.5259\n",
      "Epoch 14/25\n",
      "\u001b[1m26/26\u001b[0m \u001b[32m━━━━━━━━━━━━━━━━━━━━\u001b[0m\u001b[37m\u001b[0m \u001b[1m1s\u001b[0m 52ms/step - accuracy: 0.9375 - loss: 0.3366 - val_accuracy: 0.8327 - val_loss: 0.5246\n",
      "Epoch 15/25\n",
      "\u001b[1m26/26\u001b[0m \u001b[32m━━━━━━━━━━━━━━━━━━━━\u001b[0m\u001b[37m\u001b[0m \u001b[1m7s\u001b[0m 136ms/step - accuracy: 0.7215 - loss: 0.7069 - val_accuracy: 0.8399 - val_loss: 0.5030\n",
      "Epoch 16/25\n",
      "\u001b[1m26/26\u001b[0m \u001b[32m━━━━━━━━━━━━━━━━━━━━\u001b[0m\u001b[37m\u001b[0m \u001b[1m1s\u001b[0m 52ms/step - accuracy: 0.9062 - loss: 0.3725 - val_accuracy: 0.8399 - val_loss: 0.5003\n",
      "Epoch 17/25\n",
      "\u001b[1m26/26\u001b[0m \u001b[32m━━━━━━━━━━━━━━━━━━━━\u001b[0m\u001b[37m\u001b[0m \u001b[1m6s\u001b[0m 201ms/step - accuracy: 0.7906 - loss: 0.5849 - val_accuracy: 0.8470 - val_loss: 0.4743\n",
      "Epoch 18/25\n",
      "\u001b[1m26/26\u001b[0m \u001b[32m━━━━━━━━━━━━━━━━━━━━\u001b[0m\u001b[37m\u001b[0m \u001b[1m1s\u001b[0m 27ms/step - accuracy: 0.5625 - loss: 0.9623 - val_accuracy: 0.8470 - val_loss: 0.4757\n",
      "Epoch 19/25\n",
      "\u001b[1m26/26\u001b[0m \u001b[32m━━━━━━━━━━━━━━━━━━━━\u001b[0m\u001b[37m\u001b[0m \u001b[1m8s\u001b[0m 167ms/step - accuracy: 0.7873 - loss: 0.5695 - val_accuracy: 0.8470 - val_loss: 0.4570\n",
      "Epoch 20/25\n",
      "\u001b[1m26/26\u001b[0m \u001b[32m━━━━━━━━━━━━━━━━━━━━\u001b[0m\u001b[37m\u001b[0m \u001b[1m1s\u001b[0m 53ms/step - accuracy: 0.6562 - loss: 0.6270 - val_accuracy: 0.8505 - val_loss: 0.4579\n",
      "Epoch 21/25\n",
      "\u001b[1m26/26\u001b[0m \u001b[32m━━━━━━━━━━━━━━━━━━━━\u001b[0m\u001b[37m\u001b[0m \u001b[1m8s\u001b[0m 138ms/step - accuracy: 0.7726 - loss: 0.5824 - val_accuracy: 0.8577 - val_loss: 0.4460\n",
      "Epoch 22/25\n",
      "\u001b[1m26/26\u001b[0m \u001b[32m━━━━━━━━━━━━━━━━━━━━\u001b[0m\u001b[37m\u001b[0m \u001b[1m1s\u001b[0m 52ms/step - accuracy: 0.7500 - loss: 0.6484 - val_accuracy: 0.8399 - val_loss: 0.4533\n",
      "Epoch 23/25\n",
      "\u001b[1m26/26\u001b[0m \u001b[32m━━━━━━━━━━━━━━━━━━━━\u001b[0m\u001b[37m\u001b[0m \u001b[1m6s\u001b[0m 225ms/step - accuracy: 0.7908 - loss: 0.5898 - val_accuracy: 0.8577 - val_loss: 0.4348\n",
      "Epoch 24/25\n",
      "\u001b[1m26/26\u001b[0m \u001b[32m━━━━━━━━━━━━━━━━━━━━\u001b[0m\u001b[37m\u001b[0m \u001b[1m1s\u001b[0m 29ms/step - accuracy: 0.8438 - loss: 0.4363 - val_accuracy: 0.8612 - val_loss: 0.4337\n",
      "Epoch 25/25\n",
      "\u001b[1m26/26\u001b[0m \u001b[32m━━━━━━━━━━━━━━━━━━━━\u001b[0m\u001b[37m\u001b[0m \u001b[1m8s\u001b[0m 158ms/step - accuracy: 0.7915 - loss: 0.5764 - val_accuracy: 0.8648 - val_loss: 0.4336\n"
     ]
    }
   ],
   "source": [
    "# Train multi-class model with Transfer Learning\n",
    "train_augmented = data_gen.flow(trainSamples_multi, trainLabels_multi, batch_size=32)\n",
    "history_multi_tl = model_multi_tl.fit(\n",
    "    train_augmented,\n",
    "    steps_per_epoch=len(trainSamples_multi) // 32,\n",
    "    validation_data=(testSamples_multi, testLabels_multi),\n",
    "    epochs=25\n",
    ")\n"
   ]
  },
  {
   "cell_type": "code",
   "execution_count": 28,
   "metadata": {
    "colab": {
     "base_uri": "https://localhost:8080/"
    },
    "id": "DORhYsFDBbT9",
    "outputId": "1a10bc05-9f3a-41ce-fb4a-6e79e8ab1a55"
   },
   "outputs": [
    {
     "name": "stdout",
     "output_type": "stream",
     "text": [
      "\u001b[1m9/9\u001b[0m \u001b[32m━━━━━━━━━━━━━━━━━━━━\u001b[0m\u001b[37m\u001b[0m \u001b[1m6s\u001b[0m 308ms/step\n",
      "Transfer Learning Multi-class Confusion Matrix:\n",
      "[[67  2  7  7]\n",
      " [ 2 41  1  2]\n",
      " [ 3  3 44  8]\n",
      " [ 0  1  2 91]]\n",
      "Classification Report:\n",
      "               precision    recall  f1-score   support\n",
      "\n",
      "      cloudy       0.93      0.81      0.86        83\n",
      "        rain       0.87      0.89      0.88        46\n",
      "       shine       0.81      0.76      0.79        58\n",
      "     sunrise       0.84      0.97      0.90        94\n",
      "\n",
      "    accuracy                           0.86       281\n",
      "   macro avg       0.87      0.86      0.86       281\n",
      "weighted avg       0.87      0.86      0.86       281\n",
      "\n",
      "Cohen's Kappa: 0.8144215227932359\n",
      "Accuracy: 0.8647686832740213\n"
     ]
    }
   ],
   "source": [
    "# Evaluate multi-class model\n",
    "multi_pred_tl = np.argmax(model_multi_tl.predict(testSamples_multi), axis=1)\n",
    "multi_true_tl = np.argmax(testLabels_multi, axis=1)\n",
    "\n",
    "print(\"Transfer Learning Multi-class Confusion Matrix:\")\n",
    "print(confusion_matrix(multi_true_tl, multi_pred_tl))\n",
    "print(\"Classification Report:\\n\", classification_report(multi_true_tl, multi_pred_tl, target_names=lb_multi.classes_))\n",
    "print(\"Cohen's Kappa:\", cohen_kappa_score(multi_true_tl, multi_pred_tl))\n",
    "print(\"Accuracy:\", accuracy_score(multi_true_tl, multi_pred_tl))\n",
    "\n"
   ]
  },
  {
   "cell_type": "code",
   "execution_count": 29,
   "metadata": {
    "colab": {
     "base_uri": "https://localhost:8080/",
     "height": 472
    },
    "id": "MYnfyczMBkCr",
    "outputId": "7f8e5aac-0240-482e-c9a3-e33a358d5c2d"
   },
   "outputs": [
    {
     "data": {
      "image/png": "[encoded data removed]",
      "text/plain": [
       "<Figure size 640x480 with 2 Axes>"
      ]
     },
     "metadata": {},
     "output_type": "display_data"
    }
   ],
   "source": [
    "# Plot confusion matrix\n",
    "sns.heatmap(confusion_matrix(multi_true_tl, multi_pred_tl), annot=True, fmt='d', cmap='Blues', xticklabels=lb_multi.classes_, yticklabels=lb_multi.classes_)\n",
    "plt.title(\"Transfer Learning Multi-class Confusion Matrix\")\n",
    "plt.xlabel(\"Predicted\")\n",
    "plt.ylabel(\"Actual\")\n",
    "plt.show()\n"
   ]
  },
  {
   "cell_type": "markdown",
   "metadata": {},
   "source": [
    "WNIOSKI:\n",
    "- Binary Classification: Prosty model CNN osiągnął bardzo dobre wyniki (96% accuracy). Wynika to z łatwości rozróżnienia dwóch klas (cloudy, sunrise) w zbiorze.\n",
    "- Multi-class Classification: Podczas klasyfikacji czterech klas zauważono spadek dokładności (75%), co może być związane z większą trudnością zadania, np. podobieństwem klas (w tym przypadku: cloudy i rain)\n",
    "- Transfer Learning: było dodatkowym krokiem, który nie był wymagany w zadaniu, ale miał na celu sprawdzenie potencjalnej poprawy wyników co się udało gdyż osiągnął accuracy na poziomie 86% (lepszy wynik niż Multi-class Classification)\n",
    "\n",
    "Kluczowe czynniki wpływające na wyniki:\n",
    "- rozdzielczość obrazów (ogranicza ilość informacji dostępnych dla modelu)\n",
    "- regularyzacja pomogła zminimalizaować przeuczenie w Multi-class modelu\n"
   ]
  }
 ],
 "metadata": {
  "colab": {
   "provenance": []
  },
  "kernelspec": {
   "display_name": "Python 3",
   "name": "python3"
  },
  "language_info": {
   "name": "python"
  }
 },
 "nbformat": 4,
 "nbformat_minor": 0
}
