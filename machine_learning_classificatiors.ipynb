{
  "cells": [
    {
      "cell_type": "code",
      "execution_count": 7,
      "metadata": {
        "colab": {
          "base_uri": "https://localhost:8080/"
        },
        "id": "QNdF_gKTRaez",
        "outputId": "e3670f0f-c58d-4df9-f126-5cc2c2e30356"
      },
      "outputs": [
        {
          "output_type": "stream",
          "name": "stdout",
          "text": [
            "--2024-10-19 16:22:54--  http://www.kasprowski.pl/datasets/emvic.zip\n",
            "Resolving www.kasprowski.pl (www.kasprowski.pl)... 94.152.164.213\n",
            "Connecting to www.kasprowski.pl (www.kasprowski.pl)|94.152.164.213|:80... connected.\n",
            "HTTP request sent, awaiting response... 200 OK\n",
            "Length: 4295994 (4.1M) [application/zip]\n",
            "Saving to: ‘emvic.zip.1’\n",
            "\n",
            "emvic.zip.1         100%[===================>]   4.10M  3.51MB/s    in 1.2s    \n",
            "\n",
            "2024-10-19 16:22:55 (3.51 MB/s) - ‘emvic.zip.1’ saved [4295994/4295994]\n",
            "\n",
            "Archive:  emvic.zip\n",
            "replace emvic.data? [y]es, [n]o, [A]ll, [N]one, [r]ename: y\n",
            "  inflating: emvic.data              \n"
          ]
        }
      ],
      "source": [
        "!wget http://www.kasprowski.pl/datasets/emvic.zip\n",
        "!unzip emvic.zip\n"
      ]
    },
    {
      "cell_type": "code",
      "execution_count": 20,
      "metadata": {
        "id": "oSR7I_GHh8ZG"
      },
      "outputs": [],
      "source": [
        "# import pandas as pd\n",
        "# from sklearn.model_selection import train_test_split, GridSearchCV, cross_val_score\n",
        "# from sklearn.preprocessing import StandardScaler, MinMaxScaler\n",
        "# from sklearn.feature_selection import SelectKBest, f_classif\n",
        "# from sklearn.metrics import accuracy_score\n",
        "# from sklearn.naive_bayes import GaussianNB\n",
        "# from sklearn.tree import DecisionTreeClassifier\n",
        "# from sklearn.neural_network import MLPClassifier\n",
        "# from sklearn.linear_model import LogisticRegression\n",
        "# from sklearn.svm import SVC\n",
        "# from sklearn.ensemble import RandomForestClassifier, GradientBoostingClassifier\n",
        "# from sklearn.neighbors import KNeighborsClassifier\n",
        "# import numpy as np\n",
        "import pandas as pd\n",
        "from sklearn.model_selection import train_test_split, RandomizedSearchCV, cross_val_score\n",
        "from sklearn.preprocessing import StandardScaler\n",
        "from sklearn.feature_selection import SelectKBest, f_classif, RFE\n",
        "from sklearn.metrics import accuracy_score\n",
        "from sklearn.ensemble import RandomForestClassifier\n",
        "from sklearn.pipeline import Pipeline\n",
        "import numpy as np"
      ]
    },
    {
      "cell_type": "code",
      "execution_count": 21,
      "metadata": {
        "colab": {
          "base_uri": "https://localhost:8080/"
        },
        "id": "FqOJxw6aV1WO",
        "outputId": "c21c9e87-7915-4618-ea68-65def5869c1c"
      },
      "outputs": [
        {
          "output_type": "stream",
          "name": "stdout",
          "text": [
            "  0      1      2      3      4      5      6      7      8      9      ...  \\\n",
            "0   a25      0      0      0      0      0      0      0      0      0  ...   \n",
            "1   a25      0      0      0      0      0      0      0      0      0  ...   \n",
            "2   a25      0      0      0      0      0      0      0      0      0  ...   \n",
            "3   a25      0      0      0      0      0      0      0      0      0  ...   \n",
            "4   a25      0      0      0      0      0      0      0      0      0  ...   \n",
            "\n",
            "   12279  12280  12281  12282  12283  12284  12285  12286  12287  12288  \n",
            "0    -20    -20    -20    -20    -19    -20    -22    -19    -22    -23  \n",
            "1    -74    -73    -75    -73    -72    -72    -69    -67    -67    -70  \n",
            "2    -51    -52    -54    -51    -54    -54    -54    -53    -52    -54  \n",
            "3     74     74     74     74     74     74     75     71     76     74  \n",
            "4    129    130    130    133    131    129    124    124    122    117  \n",
            "\n",
            "[5 rows x 12289 columns]\n"
          ]
        }
      ],
      "source": [
        "# Wczytanie danych\n",
        "data = pd.read_csv('emvic.data', sep='\\t', header=None)\n",
        "\n",
        "print(data.head())\n"
      ]
    },
    {
      "cell_type": "code",
      "execution_count": 22,
      "metadata": {
        "colab": {
          "base_uri": "https://localhost:8080/"
        },
        "id": "O5p3CkeLXoDX",
        "outputId": "47b1e6d9-bb43-4b97-f1ab-9f0ddfb5e240"
      },
      "outputs": [
        {
          "output_type": "stream",
          "name": "stdout",
          "text": [
            "[[-0.13082398 -0.21876687 -0.37796447 ...  0.1366403   0.11468786\n",
            "   0.12654185]\n",
            " [-0.13082398 -0.21876687 -0.37796447 ... -0.12548409 -0.12453656\n",
            "  -0.12615889]\n",
            " [-0.13082398 -0.21876687 -0.37796447 ...  0.38220947  0.38140934\n",
            "   0.35452188]\n",
            " ...\n",
            " [-0.13082398 -0.21876687 -0.37796447 ... -3.7234863  -3.74039996\n",
            "  -3.74362503]\n",
            " [-0.13082398 -0.21876687  2.64575131 ... -1.27883143 -1.26016515\n",
            "  -1.24683177]\n",
            " [-0.13082398 -0.21876687 -0.37796447 ... -0.55591994 -0.5534907\n",
            "  -0.55465147]]\n",
            "\n",
            "\n",
            "[[-0.13082398 -0.21876687 -0.37796447 ... -0.24688908 -0.25377275\n",
            "  -0.25525601]\n",
            " [-0.13082398 -0.21876687 -0.37796447 ... -0.37933088 -0.37750952\n",
            "  -0.38435314]\n",
            " [-0.13082398 -0.21876687 -0.37796447 ... -0.34070202 -0.33626393\n",
            "  -0.34040518]\n",
            " ...\n",
            " [-0.13082398 -0.21876687 -0.37796447 ...  0.43739355  0.43090405\n",
            "   0.42868405]\n",
            " [-0.13082398 -0.21876687 -0.37796447 ...  1.03614085  1.03033996\n",
            "   1.0302217 ]\n",
            " [-0.13082398 -0.21876687 -0.37796447 ...  1.39207818  1.39330115\n",
            "   1.39553909]]\n"
          ]
        }
      ],
      "source": [
        "\n",
        "X = data.iloc[:, 1:]\n",
        "y = data.iloc[:, 0]\n",
        "\n",
        "X['difference_lr'] = X.iloc[:, 2] - X.iloc[:, 3]  # Różnica między lewym a prawym okiem\n",
        "X['speed'] = X.diff(axis=1).mean(axis=1)  # Przybliżona prędkość ruchu oka\n",
        "X['acceleration'] = X.diff(axis=1).diff(axis=1).mean(axis=1)  # Przybliżone przyspieszenie ruchu oka\n",
        "\n",
        "# Usunięcie kolumn, które mają stałe wartości\n",
        "X = X.loc[:, (X != X.iloc[0]).any()]\n",
        "\n",
        "#skalowanie:\n",
        "scaler = StandardScaler()\n",
        "X_scaled = scaler.fit_transform(X)\n",
        "\n",
        "# podział na testowy i treningowy:\n",
        "X_train, X_test, y_train, y_test = train_test_split(X_scaled, y, test_size=0.25, random_state=42)\n",
        "\n",
        "\n",
        "print(X_train)\n",
        "print('\\n')\n",
        "print(X_scaled)\n",
        "\n"
      ]
    },
    {
      "cell_type": "code",
      "execution_count": null,
      "metadata": {
        "id": "zzdz8F9KhkQD"
      },
      "outputs": [],
      "source": [
        "# feature selection - RFE:\n",
        "\n",
        "rf = RandomForestClassifier(random_state=42)\n",
        "selector = RFE(rf, n_features_to_select=50)\n",
        "X_train_selected = selector.fit_transform(X_train, y_train)\n",
        "X_test_selected = selector.transform(X_test)\n"
      ]
    },
    {
      "cell_type": "code",
      "execution_count": 18,
      "metadata": {
        "colab": {
          "base_uri": "https://localhost:8080/"
        },
        "id": "StJCZTlibIEv",
        "outputId": "44ee472c-c473-4205-87a2-fc803e6286d8"
      },
      "outputs": [
        {
          "output_type": "stream",
          "name": "stdout",
          "text": [
            "Dokładność Random Forest (optymalizowane): 0.4808\n"
          ]
        }
      ],
      "source": [
        "\n",
        "#Wykorzystanie klasyfikatora Random Forest:\n",
        "rf_param_dist = {\n",
        "    'n_estimators': [100, 200, 300, 400, 500],\n",
        "    'max_depth': [None, 10, 20, 30, 40, 50],\n",
        "    'min_samples_split': [2, 5, 10],\n",
        "    'min_samples_leaf': [1, 2, 4],\n",
        "    'max_features': ['sqrt', 'log2', None]\n",
        "}\n",
        "\n",
        "rf_random_search = RandomizedSearchCV(RandomForestClassifier(random_state=42), rf_param_dist, n_iter=50, cv=5, random_state=42)\n",
        "rf_random_search.fit(X_train_selected, y_train)\n",
        "y_pred_rf = rf_random_search.predict(X_test_selected)\n",
        "accuracy_rf = accuracy_score(y_test, y_pred_rf)\n",
        "print(f\"Dokładność Random Forest (optymalizowane): {accuracy_rf:.4f}\")"
      ]
    },
    {
      "cell_type": "code",
      "execution_count": null,
      "metadata": {
        "colab": {
          "base_uri": "https://localhost:8080/"
        },
        "id": "gg0yIXA5bRsX",
        "outputId": "9998be6b-0487-43ab-f0aa-7897c2b4abfc"
      },
      "outputs": [
        {
          "name": "stdout",
          "output_type": "stream",
          "text": [
            "Accuracy of SVC (optimized): 0.3462\n"
          ]
        }
      ],
      "source": [
        "#Wykorzystanie klasyfikatora SVC:\n",
        "svc_param_grid = {\n",
        "    'C': [0.1, 1, 10],\n",
        "    'gamma': [0.01, 0.1, 1],\n",
        "    'kernel': ['rbf', 'linear']\n",
        "}\n",
        "svc_grid_search = GridSearchCV(SVC(random_state=42), svc_param_grid, cv=5)\n",
        "svc_grid_search.fit(X_train_selected, y_train)\n",
        "y_pred_svc = svc_grid_search.predict(X_test_selected)\n",
        "accuracy_svc = accuracy_score(y_test, y_pred_svc)\n",
        "print(f\"Accuracy of SVC (optimized): {accuracy_svc:.4f}\")\n"
      ]
    },
    {
      "cell_type": "code",
      "execution_count": null,
      "metadata": {
        "colab": {
          "base_uri": "https://localhost:8080/"
        },
        "id": "L0aM8dYbkpS_",
        "outputId": "33a932ef-0ca7-4ba3-ff4e-3de8c23e6b96"
      },
      "outputs": [
        {
          "name": "stdout",
          "output_type": "stream",
          "text": [
            "Accuracy of Logistic Regression: 0.3942\n"
          ]
        }
      ],
      "source": [
        "#Wykorzystanie klasyfikatora Logistic Regression:\n",
        "lr_clf = LogisticRegression(max_iter=10000)\n",
        "lr_clf.fit(X_train_selected, y_train)\n",
        "y_pred_lr = lr_clf.predict(X_test_selected)\n",
        "accuracy_lr = accuracy_score(y_test, y_pred_lr)\n",
        "print(f\"Accuracy of Logistic Regression: {accuracy_lr:.4f}\")"
      ]
    },
    {
      "cell_type": "code",
      "execution_count": null,
      "metadata": {
        "colab": {
          "base_uri": "https://localhost:8080/"
        },
        "id": "1up9nUWynYyW",
        "outputId": "b2154d12-eb21-4fbd-c4e4-39c334ed1925"
      },
      "outputs": [
        {
          "name": "stdout",
          "output_type": "stream",
          "text": [
            "Accuracy of Naive Bayes: 0.2692\n"
          ]
        }
      ],
      "source": [
        "#Wykorzystanie klasyfikatora Naive Bayes\n",
        "nb_clf = GaussianNB()\n",
        "nb_clf.fit(X_train_selected, y_train)\n",
        "y_pred_nb = nb_clf.predict(X_test_selected)\n",
        "accuracy_nb = accuracy_score(y_test, y_pred_nb)\n",
        "print(f\"Accuracy of Naive Bayes: {accuracy_nb:.4f}\")"
      ]
    },
    {
      "cell_type": "code",
      "execution_count": null,
      "metadata": {
        "colab": {
          "base_uri": "https://localhost:8080/"
        },
        "id": "6uvYqXPGncpl",
        "outputId": "ee52324e-127d-4845-fe9f-23ce0f0277cc"
      },
      "outputs": [
        {
          "name": "stdout",
          "output_type": "stream",
          "text": [
            "Accuracy of MLP Classifier: 0.3942\n"
          ]
        }
      ],
      "source": [
        "# Wykorzystanie klasyfikatora  MLP:\n",
        "mlp_clf = MLPClassifier(max_iter=1000, random_state=42)\n",
        "mlp_clf.fit(X_train_selected, y_train)\n",
        "y_pred_mlp = mlp_clf.predict(X_test_selected)\n",
        "accuracy_mlp = accuracy_score(y_test, y_pred_mlp)\n",
        "print(f\"Accuracy of MLP Classifier: {accuracy_mlp:.4f}\")"
      ]
    },
    {
      "cell_type": "code",
      "execution_count": null,
      "metadata": {
        "colab": {
          "base_uri": "https://localhost:8080/"
        },
        "id": "tNVpnGMXnhXH",
        "outputId": "1b83e693-d7a0-4a1b-9e80-db7a16b6f316"
      },
      "outputs": [
        {
          "name": "stdout",
          "output_type": "stream",
          "text": [
            "Accuracy of Decision Tree: 0.2596\n"
          ]
        }
      ],
      "source": [
        "#Wykorzystanie klasyfikatora Decision Tree\n",
        "dt_clf = DecisionTreeClassifier(random_state=42)\n",
        "dt_clf.fit(X_train_selected, y_train)\n",
        "y_pred_dt = dt_clf.predict(X_test_selected)\n",
        "accuracy_dt = accuracy_score(y_test, y_pred_dt)\n",
        "print(f\"Accuracy of Decision Tree: {accuracy_dt:.4f}\")"
      ]
    },
    {
      "cell_type": "code",
      "execution_count": null,
      "metadata": {
        "colab": {
          "base_uri": "https://localhost:8080/"
        },
        "id": "XyUKTrNwsESQ",
        "outputId": "a5d3ecb7-77fd-472a-fe61-9c69489dde39"
      },
      "outputs": [
        {
          "name": "stdout",
          "output_type": "stream",
          "text": [
            "Accuracy of KNeighbors: 0.3173\n"
          ]
        }
      ],
      "source": [
        "#Wykorzystanie klasyfikatora KNN:\n",
        "knn_clf = KNeighborsClassifier()\n",
        "knn_clf.fit(X_train_selected, y_train)\n",
        "y_pred_knn = knn_clf.predict(X_test_selected)\n",
        "accuracy_knn = accuracy_score(y_test, y_pred_knn)\n",
        "print(f\"Accuracy of KNeighbors: {accuracy_knn:.4f}\")"
      ]
    },
    {
      "cell_type": "code",
      "execution_count": null,
      "metadata": {
        "colab": {
          "base_uri": "https://localhost:8080/"
        },
        "id": "E0H18pDssM0w",
        "outputId": "328122ab-74bc-44c5-d3fa-a13d7d443c96"
      },
      "outputs": [
        {
          "name": "stdout",
          "output_type": "stream",
          "text": [
            "Cross-validation accuracy of Random Forest: 0.3781\n",
            "Cross-validation accuracy of SVC: 0.3589\n"
          ]
        }
      ],
      "source": [
        "# cross walidacja:\n",
        "for clf, name in [(rf_clf, 'Random Forest'), (svc_clf, 'SVC')]:\n",
        "    scores = cross_val_score(clf, X_train_selected, y_train, cv=5)\n",
        "    print(f\"Cross-validation accuracy of {name}: {np.mean(scores):.4f}\")"
      ]
    }
  ],
  "metadata": {
    "colab": {
      "provenance": []
    },
    "kernelspec": {
      "display_name": "Python 3",
      "name": "python3"
    },
    "language_info": {
      "name": "python"
    }
  },
  "nbformat": 4,
  "nbformat_minor": 0
}