{
  "nbformat": 4,
  "nbformat_minor": 0,
  "metadata": {
    "colab": {
      "provenance": []
    },
    "kernelspec": {
      "name": "python3",
      "display_name": "Python 3"
    },
    "language_info": {
      "name": "python"
    }
  },
  "cells": [
    {
      "cell_type": "code",
      "execution_count": null,
      "metadata": {
        "colab": {
          "base_uri": "https://localhost:8080/"
        },
        "id": "vWhohf7G0OgB",
        "outputId": "1c98938e-600c-4436-8ff4-d21b90a17dc7"
      },
      "outputs": [
        {
          "output_type": "stream",
          "name": "stdout",
          "text": [
            "5\n"
          ]
        }
      ],
      "source": [
        "def sortowanie(listaDosortowania):\n",
        "  first = None\n",
        "  second = None\n",
        "  for x in listaDosortowania:\n",
        "    if first is None or x>first:\n",
        "      second = first\n",
        "      first = x\n",
        "    if second is None or x>second>first:\n",
        "      second = x\n",
        "  return second\n",
        "\n",
        "print(sortowanie([2, 1, 5, 7, 6, 7]))"
      ]
    },
    {
      "cell_type": "code",
      "source": [],
      "metadata": {
        "id": "mkXpdnMQPdAg"
      },
      "execution_count": null,
      "outputs": []
    },
    {
      "cell_type": "code",
      "source": [
        "def rotateList(lista2, k):\n",
        "  k %= len(lista2)\n",
        "  print(lista2[-k:]+lista2[:-k])\n",
        "\n",
        "print(rotateList([1,2,3,4,5], 2))"
      ],
      "metadata": {
        "colab": {
          "base_uri": "https://localhost:8080/"
        },
        "id": "E-bqZDfT_pMI",
        "outputId": "c54d0196-b7d2-4103-cf6c-8c1cc4454ffe"
      },
      "execution_count": null,
      "outputs": [
        {
          "output_type": "stream",
          "name": "stdout",
          "text": [
            "[4, 5, 1, 2, 3]\n",
            "None\n"
          ]
        }
      ]
    },
    {
      "cell_type": "code",
      "source": [
        "import numpy as np\n",
        "import pandas as pd\n",
        "\n",
        "temperatures = [3.4, 2.1, 5.6, 7.2, 6.8, 3.9, 2.3, 4.6, 5.2, 6.1,\n",
        "                7.8, 8.2, 6.9, 4.5, 3.2, 2.7, 3.8, 5.9, 7.3, 6.5,\n",
        "                4.1, 3.6, 2.9, 1.8, 3.7, 5.0, 6.4, 7.1, 6.7, 4.2]\n",
        "\n",
        "print(temperatures[-7:])\n",
        "avg_temp_last_7_days=np.average(temperatures[:-7])\n",
        "print(\"średnia temperatura z ostatnich 7 dni: \" + str(round(avg_temp_last_7_days, 2)))\n",
        "coldest=np.min(temperatures)\n",
        "hottest=np.max(temperatures)\n",
        "print(\"Najzimniejszy dzień: \" + str(coldest) + \"\\n\" + \"Najcieplejszy dzień: \" + str(hottest))\n",
        "odch_std=np.std(temperatures)\n",
        "print(\"Odchylenie standardowe: \"+str(round(odch_std,2)))"
      ],
      "metadata": {
        "colab": {
          "base_uri": "https://localhost:8080/"
        },
        "id": "7LXZWWKpi6iT",
        "outputId": "686d3bd0-06fa-476d-ddbd-d20a122dae51"
      },
      "execution_count": null,
      "outputs": [
        {
          "output_type": "stream",
          "name": "stdout",
          "text": [
            "[1.8, 3.7, 5.0, 6.4, 7.1, 6.7, 4.2]\n",
            "średnia temperatura z ostatnich 7 dni: 4.98\n",
            "Najzimniejszy dzień: 1.8\n",
            "Najcieplejszy dzień: 8.2\n",
            "Odchylenie standardowe: 1.81\n"
          ]
        }
      ]
    },
    {
      "cell_type": "code",
      "source": [
        "import collections\n",
        "import string\n",
        "\n",
        "text = \"Data science is all about analyzing data and extracting useful insights.\"\n",
        "text=text.lower()\n",
        "text=text.translate(str.maketrans(\"\",\"\", string.punctuation))\n",
        "print(text)\n",
        "text_list = text.split(' ')\n",
        "print(text_list)\n",
        "for x in text_list:\n",
        "  word_counter = text_list.count(x)\n",
        "  print(\"Liczba wystąpień słowa \"+ str(x) + \": \"+ str(word_counter) + \"\\n\")\n",
        "\n",
        "longest_word=max(text_list, key=len)\n",
        "print(\"Najdłuższe słowo: \"+longest_word)\n"
      ],
      "metadata": {
        "colab": {
          "base_uri": "https://localhost:8080/"
        },
        "id": "qHAMkTlwi7c1",
        "outputId": "eff35ec2-0426-4d55-9990-e1aba975d391"
      },
      "execution_count": null,
      "outputs": [
        {
          "output_type": "stream",
          "name": "stdout",
          "text": [
            "data science is all about analyzing data and extracting useful insights\n",
            "['data', 'science', 'is', 'all', 'about', 'analyzing', 'data', 'and', 'extracting', 'useful', 'insights']\n",
            "Liczba wystąpień słowa data: 2\n",
            "\n",
            "Liczba wystąpień słowa science: 1\n",
            "\n",
            "Liczba wystąpień słowa is: 1\n",
            "\n",
            "Liczba wystąpień słowa all: 1\n",
            "\n",
            "Liczba wystąpień słowa about: 1\n",
            "\n",
            "Liczba wystąpień słowa analyzing: 1\n",
            "\n",
            "Liczba wystąpień słowa data: 2\n",
            "\n",
            "Liczba wystąpień słowa and: 1\n",
            "\n",
            "Liczba wystąpień słowa extracting: 1\n",
            "\n",
            "Liczba wystąpień słowa useful: 1\n",
            "\n",
            "Liczba wystąpień słowa insights: 1\n",
            "\n",
            "Najdłuższe słowo: extracting\n"
          ]
        }
      ]
    },
    {
      "cell_type": "code",
      "source": [
        "sales = [\n",
        "    (\"Laptop\", 5, 3000),\n",
        "    (\"Monitor\", 10, 1200),\n",
        "    (\"Klawiatura\", 15, 200),\n",
        "    (\"Mysz\", 20, 150),\n",
        "    (\"Drukarka\", 3, 800),\n",
        "]\n",
        "\n",
        "przychod=0\n",
        "przychod_list=[]\n",
        "for elements in sales:\n",
        "  przychod1=elements[1]*elements[2]\n",
        "  przychod_list.append((elements[0], przychod1))\n",
        "  przychod=przychod+przychod1\n",
        "\n",
        "print(\"Całkowity przychód: \"+ str(przychod))\n",
        "print(przychod_list)\n",
        "max_przychod=max(przychod_list, key=lambda i: i[1])\n",
        "print(\"Najwyzszy przychod wygenerował: \" + str(max_przychod[0]) + \" o wartości: \" + str(max_przychod[1]))\n"
      ],
      "metadata": {
        "colab": {
          "base_uri": "https://localhost:8080/"
        },
        "id": "jl2nKAhgxdng",
        "outputId": "a4b015b7-3cf3-4b76-d907-7393ca250c38"
      },
      "execution_count": null,
      "outputs": [
        {
          "output_type": "stream",
          "name": "stdout",
          "text": [
            "Całkowity przychód: 35400\n",
            "[('Laptop', 15000), ('Monitor', 12000), ('Klawiatura', 3000), ('Mysz', 3000), ('Drukarka', 2400)]\n",
            "('Laptop', 15000)\n",
            "Najwyzszy przychod wygenerował: Laptop o wartości: 15000\n"
          ]
        }
      ]
    },
    {
      "cell_type": "code",
      "source": [
        "shopping_list = [\"mleko\", \"chleb\", \"masło\", \"jajka\"]\n",
        "shopping_list.append(\"ser\")\n",
        "print(shopping_list)\n",
        "shopping_list.remove(\"masło\")\n",
        "print(shopping_list)\n",
        "def sprawdzam(slowko):\n",
        "  if slowko in shopping_list:\n",
        "    return True\n",
        "  else:\n",
        "    return False\n",
        "\n",
        "print(sprawdzam(\"chleb\"))"
      ],
      "metadata": {
        "colab": {
          "base_uri": "https://localhost:8080/"
        },
        "id": "P-ouSPtkPeD6",
        "outputId": "09d86340-43d3-4afd-8287-5ba76b8f2444"
      },
      "execution_count": null,
      "outputs": [
        {
          "output_type": "stream",
          "name": "stdout",
          "text": [
            "['mleko', 'chleb', 'masło', 'jajka', 'ser']\n",
            "['mleko', 'chleb', 'jajka', 'ser']\n",
            "True\n"
          ]
        }
      ]
    },
    {
      "cell_type": "code",
      "source": [
        "coordinates = (10, 20)\n",
        "coordinates=list(coordinates)\n",
        "coordinates.pop(0)\n",
        "coordinates.insert(0,15)\n",
        "coordinates=tuple(coordinates)\n",
        "print(coordinates)\n",
        "drugi = coordinates[1]\n",
        "print(drugi)"
      ],
      "metadata": {
        "colab": {
          "base_uri": "https://localhost:8080/"
        },
        "id": "U2EZ0BMJR1cI",
        "outputId": "594ae777-2647-4eb5-8cb2-3e90565417f6"
      },
      "execution_count": null,
      "outputs": [
        {
          "output_type": "stream",
          "name": "stdout",
          "text": [
            "(15, 20)\n",
            "20\n"
          ]
        }
      ]
    },
    {
      "cell_type": "code",
      "source": [
        "math_students = {\"Ania\", \"Bartek\", \"Kasia\", \"Tomek\"}\n",
        "english_students = {\"Bartek\", \"Kasia\", \"Monika\", \"Piotr\"}\n",
        "\n",
        "for x in math_students:\n",
        "  if x in english_students:\n",
        "    print(x)\n",
        "\n",
        "print(math_students.intersection(english_students)) #to samo ale szybciej XD\n",
        "\n",
        "math_students.update(english_students)\n",
        "print(math_students)"
      ],
      "metadata": {
        "colab": {
          "base_uri": "https://localhost:8080/"
        },
        "id": "D1cxy1j5VsPn",
        "outputId": "a12eab32-8ae0-4677-a66c-ceb8d6525e75"
      },
      "execution_count": null,
      "outputs": [
        {
          "output_type": "stream",
          "name": "stdout",
          "text": [
            "Kasia\n",
            "Bartek\n",
            "{'Kasia', 'Bartek'}\n",
            "{'Bartek', 'Tomek', 'Monika', 'Piotr', 'Kasia', 'Ania'}\n"
          ]
        }
      ]
    },
    {
      "cell_type": "code",
      "source": [
        "sales = {\"Laptop\": 5, \"Monitor\": 10, \"Klawiatura\": 15, \"Mysz\": 20}\n",
        "suma=0\n",
        "for item in sales:\n",
        "  suma+=int(sales[item])\n",
        "\n",
        "print(\"Suma sprzedanych sztuK: \"+str(suma))\n",
        "\n",
        "print(\"Najlepiej sprzedał się produkt: \"+str(max(sales, key=sales.get)))\n",
        "print(\"W ilości sztuk: \"+str(sales[max(sales, key=sales.get)]))"
      ],
      "metadata": {
        "colab": {
          "base_uri": "https://localhost:8080/"
        },
        "id": "6qBbDfQgwKWf",
        "outputId": "71a429ca-505a-4a92-c4dc-2037c2c087cc"
      },
      "execution_count": null,
      "outputs": [
        {
          "output_type": "stream",
          "name": "stdout",
          "text": [
            "Suma sprzedanych sztuK: 50\n",
            "Najlepiej sprzedał się produkt: Mysz\n",
            "W ilości sztuk: 20\n"
          ]
        }
      ]
    },
    {
      "cell_type": "code",
      "source": [
        "numbers = [1, 3, 5, 3, 7, 9, 1, 3, 5, 7, 9, 9]\n",
        "nowe_numbers=[]\n",
        "for x in numbers:\n",
        "  if x not in nowe_numbers:\n",
        "    nowe_numbers.append(x)\n",
        "nowe_numbers.sort(reverse=True)\n",
        "print(\"Posortowana malejąco lista bez duplikatów: \" + str(nowe_numbers))"
      ],
      "metadata": {
        "colab": {
          "base_uri": "https://localhost:8080/"
        },
        "id": "ojypOlVg0_hY",
        "outputId": "5c67c2f0-8cec-4a68-9615-c590569172be"
      },
      "execution_count": null,
      "outputs": [
        {
          "output_type": "stream",
          "name": "stdout",
          "text": [
            "Posortowana malejąco lista bez duplikatów: [9, 7, 5, 3, 1]\n"
          ]
        }
      ]
    },
    {
      "cell_type": "code",
      "source": [
        "person1 = {\"name\": \"Ania\", \"age\": 25, \"city\": \"Warszawa\"}\n",
        "person2 = {\"name\": \"Tomek\", \"age\": 30, \"job\": \"Programista\"}\n",
        "merged_person = {}\n",
        "\n",
        "for key, value in person1.items():\n",
        "    merged_person[key] = {value}\n",
        "for key, value in person2.items():\n",
        "    if key in merged_person:\n",
        "        merged_person[key].add(value)\n",
        "    else:\n",
        "        merged_person[key] = {value}\n",
        "print(merged_person)\n"
      ],
      "metadata": {
        "colab": {
          "base_uri": "https://localhost:8080/"
        },
        "id": "-IW93TsZ3X65",
        "outputId": "e248c9b9-7944-4e15-bcfe-cacc4d70edea"
      },
      "execution_count": null,
      "outputs": [
        {
          "output_type": "stream",
          "name": "stdout",
          "text": [
            "{'name': {'Ania', 'Tomek'}, 'age': {25, 30}, 'city': {'Warszawa'}, 'job': {'Programista'}}\n"
          ]
        }
      ]
    },
    {
      "cell_type": "code",
      "source": [
        "words = [\"listen\", \"silent\", \"enlist\", \"hello\", \"world\"]\n",
        "for word in words:\n",
        "  for letter in word:\n",
        "    print(letter)"
      ],
      "metadata": {
        "colab": {
          "base_uri": "https://localhost:8080/"
        },
        "id": "8GHNaFbV5sT-",
        "outputId": "58f6422f-f4e7-47c5-d55b-b9d293f44992"
      },
      "execution_count": null,
      "outputs": [
        {
          "output_type": "stream",
          "name": "stdout",
          "text": [
            "l\n",
            "i\n",
            "s\n",
            "t\n",
            "e\n",
            "n\n",
            "s\n",
            "i\n",
            "l\n",
            "e\n",
            "n\n",
            "t\n",
            "e\n",
            "n\n",
            "l\n",
            "i\n",
            "s\n",
            "t\n",
            "h\n",
            "e\n",
            "l\n",
            "l\n",
            "o\n",
            "w\n",
            "o\n",
            "r\n",
            "l\n",
            "d\n"
          ]
        }
      ]
    },
    {
      "cell_type": "code",
      "source": [
        "countries = {\"Polska\": \"Warszawa\", \"Niemcy\": \"Berlin\", \"Francja\": \"Paryż\"}\n",
        "capitals= dict()\n",
        "for x,y in countries.items():\n",
        "  capitals[y] = x\n",
        "\n",
        "print(countries)\n",
        "print(capitals)"
      ],
      "metadata": {
        "colab": {
          "base_uri": "https://localhost:8080/"
        },
        "id": "tSuMIgUgo0Zh",
        "outputId": "b39ffa69-a7d2-44f1-f08b-fa457c329178"
      },
      "execution_count": null,
      "outputs": [
        {
          "output_type": "stream",
          "name": "stdout",
          "text": [
            "{'Polska': 'Warszawa', 'Niemcy': 'Berlin', 'Francja': 'Paryż'}\n",
            "{'Warszawa': 'Polska', 'Berlin': 'Niemcy', 'Paryż': 'Francja'}\n"
          ]
        }
      ]
    },
    {
      "cell_type": "code",
      "source": [
        "students = [(\"Ania\", 20, 4.5), (\"Bartek\", 22, 3.7), (\"Kasia\", 21, 4.8), (\"Tomek\", 23, 3.2)]\n",
        "max_ocena=max(students, key=lambda i: i[2])\n",
        "print(\"Najwyższą średnią równą: \"+str(max_ocena[2])+\" otrzymał/a: \" + str(max_ocena[0]))\n",
        "\n",
        "students.sort(key=lambda i:i[1], reverse=True)\n",
        "print(\"Lista studentów posortowana wzg wieku: \" + str(students))\n",
        "\n",
        "srednia_ocen=0\n",
        "for x in students:\n",
        "  srednia_ocen+=x[2]\n",
        "srednia_ocen=srednia_ocen/len(students)\n",
        "print(srednia_ocen)"
      ],
      "metadata": {
        "colab": {
          "base_uri": "https://localhost:8080/"
        },
        "id": "UwDVuEr0rJ5a",
        "outputId": "ad3f6595-8c87-4be4-c999-72993dc524c2"
      },
      "execution_count": null,
      "outputs": [
        {
          "output_type": "stream",
          "name": "stdout",
          "text": [
            "Najwyższą średnią równą: 4.8 otrzymał/a: Kasia\n",
            "Lista studentów posortowana wzg wieku: [('Tomek', 23, 3.2), ('Bartek', 22, 3.7), ('Kasia', 21, 4.8), ('Ania', 20, 4.5)]\n",
            "4.05\n"
          ]
        }
      ]
    },
    {
      "cell_type": "code",
      "source": [
        "def czy_doskonala(n):\n",
        "  sum=0\n",
        "  for x in range(int(n)):\n",
        "    if x!=0 and int(n)%(x) == 0:\n",
        "      sum+=x\n",
        "      print(sum)\n",
        "  if int(sum)==int(n):\n",
        "    print(f\"{n} jest liczbą doskonałą!\")\n",
        "  else:\n",
        "    print(f\"{n} nie jest liczbą doskonałą!\")\n",
        "\n",
        "czy_doskonala(6)\n",
        "czy_doskonala(8)\n",
        "czy_doskonala(28)\n",
        "\n"
      ],
      "metadata": {
        "colab": {
          "base_uri": "https://localhost:8080/"
        },
        "id": "UYgGjPPrAjLo",
        "outputId": "0e00aed3-2a59-405d-8d9f-0e7fb198c161"
      },
      "execution_count": null,
      "outputs": [
        {
          "output_type": "stream",
          "name": "stdout",
          "text": [
            "1\n",
            "3\n",
            "6\n",
            "6 jest liczbą doskonałą!\n",
            "1\n",
            "3\n",
            "7\n",
            "8 nie jest liczbą doskonałą!\n",
            "1\n",
            "3\n",
            "7\n",
            "14\n",
            "28\n",
            "28 jest liczbą doskonałą!\n"
          ]
        }
      ]
    },
    {
      "cell_type": "code",
      "source": [
        "def ile_slow_dlugosci(n, txt):\n",
        "  txt = open(txt)\n",
        "  txt=str(txt.read())\n",
        "  rep=str.maketrans({\",\":\"\", \".\":\"\", \";\":\"\",\":\":\"\"})\n",
        "  txt1=txt.translate(rep).split(sep=\" \")\n",
        "  print(txt1)\n",
        "  print(f\"Słowa, które są długości {n}: \")\n",
        "  for x in txt1:\n",
        "    if n==len(x):\n",
        "      print(x)\n",
        "\n",
        "\n",
        "ile_slow_dlugosci(3, \"/content/tekst.txt\")"
      ],
      "metadata": {
        "colab": {
          "base_uri": "https://localhost:8080/"
        },
        "id": "TncwsDKdBX38",
        "outputId": "bd2aa911-75d3-457d-b09c-776d40b8735e"
      },
      "execution_count": null,
      "outputs": [
        {
          "output_type": "stream",
          "name": "stdout",
          "text": [
            "['ala', 'ma', 'kota', 'i', 'teraz', 'nie', 'ma', 'kota']\n",
            "Słowa, które są długości 3: \n",
            "ala\n",
            "nie\n"
          ]
        }
      ]
    },
    {
      "cell_type": "code",
      "source": [
        "def pierwsze():\n",
        "    liczba = 2\n",
        "    while True:\n",
        "        for i in range(2, int(liczba ** 0.5) + 1):\n",
        "            if liczba % i == 0:\n",
        "                break\n",
        "        else:\n",
        "            yield liczba\n",
        "        liczba += 1\n",
        "\n",
        "gen = pierwsze()\n",
        "for _ in range(10):\n",
        "    print(next(gen))\n"
      ],
      "metadata": {
        "colab": {
          "base_uri": "https://localhost:8080/"
        },
        "id": "WS0V4hj9kBjH",
        "outputId": "0d3327e0-abf9-491a-da74-83d032f07cd3"
      },
      "execution_count": null,
      "outputs": [
        {
          "output_type": "stream",
          "name": "stdout",
          "text": [
            "2\n",
            "3\n",
            "5\n",
            "7\n",
            "11\n",
            "13\n",
            "17\n",
            "19\n",
            "23\n",
            "29\n"
          ]
        }
      ]
    },
    {
      "cell_type": "code",
      "source": [
        "import numpy as np\n",
        "\n",
        "def oblicz(lista):\n",
        "  srednia = np.average(lista)\n",
        "  print(f\"Średnia: {srednia}\" )\n",
        "  maximum = np.max(lista)\n",
        "  print(f\"Max: {maximum}\")\n",
        "  minimum = np.min(lista)\n",
        "  print(f\"Min: {minimum}\")\n",
        "  suma = np.sum(lista)\n",
        "  print(f\"Suma: {suma}\")\n",
        "\n",
        "oblicz([2,1,4,3])"
      ],
      "metadata": {
        "id": "940r13gI3kTx",
        "colab": {
          "base_uri": "https://localhost:8080/"
        },
        "outputId": "11082de2-8249-44e6-99b0-a8c3c64dce00"
      },
      "execution_count": null,
      "outputs": [
        {
          "output_type": "stream",
          "name": "stdout",
          "text": [
            "Średnia: 2.5\n",
            "Max: 4\n",
            "Min: 1\n",
            "Suma: 10\n"
          ]
        }
      ]
    },
    {
      "cell_type": "code",
      "source": [
        "imiona = [\"Kasia\", \"Tomasz\", \"Ola\", \"Kuba\", \"Marek\"]\n",
        "\n",
        "def filtrowanie_imion(lista):\n",
        "  for x in lista:\n",
        "    if str(x[-1]) == \"a\":\n",
        "      print(x)\n",
        "\n",
        "filtrowanie_imion(imiona)"
      ],
      "metadata": {
        "colab": {
          "base_uri": "https://localhost:8080/"
        },
        "id": "5Nz85_efc8Zl",
        "outputId": "4439a902-14d2-4682-f91d-355928286f25"
      },
      "execution_count": null,
      "outputs": [
        {
          "output_type": "stream",
          "name": "stdout",
          "text": [
            "Kasia\n",
            "Ola\n",
            "Kuba\n"
          ]
        }
      ]
    },
    {
      "cell_type": "code",
      "source": [
        "from os import close\n",
        "def liczenie_txt(path):\n",
        "  txt = open(path)\n",
        "  txt = txt.read()\n",
        "  txt = txt.split(sep=' ')\n",
        "  print(txt)\n",
        "  ile_razy=0\n",
        "  for x in txt:\n",
        "    if x==\"python\":\n",
        "      ile_razy+=1\n",
        "  print(f\"Liczna słów: {len(txt)}\")\n",
        "  print(f\"Słowo python występuje w pliku: {ile_razy}\")\n",
        "  with open(\"/content/analiza.txt\", \"w\") as wynik:\n",
        "    wynik.write(f\"Liczna słów: {len(txt)} \\n\")\n",
        "    wynik.write(f\"Słowo python występuje w pliku: {ile_razy}\")\n",
        "    wynik.close()\n",
        "\n",
        "liczenie_txt(\"/content/tekst.txt\")"
      ],
      "metadata": {
        "colab": {
          "base_uri": "https://localhost:8080/"
        },
        "id": "9VBzz0Oxd4Uu",
        "outputId": "45808469-f3c2-4aad-f1ac-0f76848419a4"
      },
      "execution_count": null,
      "outputs": [
        {
          "output_type": "stream",
          "name": "stdout",
          "text": [
            "['ala', 'ma', 'kota', 'i', 'teraz', 'nie', 'ma', 'kota', 'python']\n",
            "Liczna słów: 9\n",
            "Słowo python występuje w pliku: 1\n"
          ]
        }
      ]
    },
    {
      "cell_type": "code",
      "source": [
        "import random\n",
        "for x in range(100):\n",
        "  r=random.randint(1, 100)\n",
        "  if r % 7 == 0:\n",
        "    print(f\"{x}. {r} jest podzielne przez 7\")\n",
        "  else:\n",
        "    print(f\"{x+1}. {r}\")\n",
        "\n"
      ],
      "metadata": {
        "colab": {
          "base_uri": "https://localhost:8080/"
        },
        "id": "iSXlKJFqhWZZ",
        "outputId": "3ef95ed9-4099-420d-e59f-66040787cee4"
      },
      "execution_count": null,
      "outputs": [
        {
          "output_type": "stream",
          "name": "stdout",
          "text": [
            "1. 71\n",
            "2. 57\n",
            "2. 56 jest podzielne przez 7\n",
            "4. 79\n",
            "5. 36\n",
            "6. 51\n",
            "7. 24\n",
            "8. 43\n",
            "9. 88\n",
            "10. 83\n",
            "11. 26\n",
            "12. 1\n",
            "13. 37\n",
            "14. 33\n",
            "14. 28 jest podzielne przez 7\n",
            "16. 47\n",
            "17. 83\n",
            "18. 61\n",
            "19. 39\n",
            "19. 98 jest podzielne przez 7\n",
            "21. 88\n",
            "22. 31\n",
            "22. 98 jest podzielne przez 7\n",
            "24. 93\n",
            "25. 53\n",
            "26. 24\n",
            "27. 80\n",
            "28. 32\n",
            "28. 70 jest podzielne przez 7\n",
            "30. 30\n",
            "30. 14 jest podzielne przez 7\n",
            "32. 23\n",
            "33. 88\n",
            "33. 28 jest podzielne przez 7\n",
            "35. 23\n",
            "36. 69\n",
            "37. 1\n",
            "38. 59\n",
            "39. 87\n",
            "40. 30\n",
            "41. 22\n",
            "42. 33\n",
            "43. 59\n",
            "44. 68\n",
            "45. 86\n",
            "46. 8\n",
            "46. 84 jest podzielne przez 7\n",
            "48. 65\n",
            "49. 74\n",
            "50. 47\n",
            "51. 78\n",
            "51. 49 jest podzielne przez 7\n",
            "53. 82\n",
            "54. 27\n",
            "55. 26\n",
            "56. 34\n",
            "57. 26\n",
            "57. 49 jest podzielne przez 7\n",
            "59. 64\n",
            "59. 7 jest podzielne przez 7\n",
            "61. 68\n",
            "62. 52\n",
            "63. 9\n",
            "64. 37\n",
            "65. 60\n",
            "66. 18\n",
            "66. 21 jest podzielne przez 7\n",
            "68. 25\n",
            "69. 55\n",
            "70. 71\n",
            "71. 100\n",
            "72. 4\n",
            "73. 33\n",
            "74. 16\n",
            "75. 57\n",
            "76. 97\n",
            "77. 5\n",
            "78. 79\n",
            "79. 46\n",
            "80. 94\n",
            "81. 73\n",
            "82. 40\n",
            "83. 32\n",
            "84. 53\n",
            "85. 44\n",
            "86. 17\n",
            "87. 26\n",
            "88. 25\n",
            "89. 18\n",
            "90. 99\n",
            "91. 76\n",
            "92. 72\n",
            "93. 79\n",
            "94. 69\n",
            "94. 28 jest podzielne przez 7\n",
            "96. 73\n",
            "96. 98 jest podzielne przez 7\n",
            "98. 85\n",
            "98. 70 jest podzielne przez 7\n",
            "100. 15\n"
          ]
        }
      ]
    },
    {
      "cell_type": "code",
      "source": [
        "def oceny_do_stopni(lista_ocen):\n",
        "  wynik=[]\n",
        "  for x in lista_ocen:\n",
        "    if x in range(90,101):\n",
        "      wynik.append(5)\n",
        "    elif x in range(80,90):\n",
        "      wynik.append(4.5)\n",
        "    elif x in range(70,80):\n",
        "      wynik.append(4)\n",
        "    elif x in range(60,70):\n",
        "      wynik.append(3.5)\n",
        "    elif x in range(50,60):\n",
        "      wynik.append(3)\n",
        "    else:\n",
        "      wynik.append(2)\n",
        "  print(wynik)\n",
        "  print(\"Liczba ocen >2: \" + str(sum(i > 2 for i in wynik)))\n",
        "\n",
        "oceny_do_stopni([95,88,54,42,33])\n",
        "\n"
      ],
      "metadata": {
        "colab": {
          "base_uri": "https://localhost:8080/"
        },
        "id": "mshwSVozIh99",
        "outputId": "1a2dda0b-28ef-4cf5-99b9-2598bf09bf6b"
      },
      "execution_count": null,
      "outputs": [
        {
          "output_type": "stream",
          "name": "stdout",
          "text": [
            "[5, 4.5, 3, 2, 2]\n",
            "Liczba ocen >2: 3\n"
          ]
        }
      ]
    },
    {
      "cell_type": "code",
      "source": [
        "import pandas as pd\n",
        "\n",
        "d = pd.read_csv(\"student_habits_performance.csv\")\n",
        "df = pd.DataFrame(data=d)\n",
        "\n",
        "# print(df)\n",
        "\n",
        "print(\"typy danych: \\n\" + str(df.dtypes))\n",
        "print(\"\\n\")\n",
        "print(\"Dataframe rows count: \\n\"+ str(df.count()))\n",
        "print(\"\\n\")\n",
        "print(\"Dataframe column count: \"+ str(df.shape[1]))"
      ],
      "metadata": {
        "colab": {
          "base_uri": "https://localhost:8080/"
        },
        "id": "aKiwgcwbLB4s",
        "outputId": "f4a4e706-e5e4-4db4-d8f3-834c742eec04"
      },
      "execution_count": null,
      "outputs": [
        {
          "output_type": "stream",
          "name": "stdout",
          "text": [
            "typy danych: \n",
            "student_id                        object\n",
            "age                                int64\n",
            "gender                            object\n",
            "study_hours_per_day              float64\n",
            "social_media_hours               float64\n",
            "netflix_hours                    float64\n",
            "part_time_job                     object\n",
            "attendance_percentage            float64\n",
            "sleep_hours                      float64\n",
            "diet_quality                      object\n",
            "exercise_frequency                 int64\n",
            "parental_education_level          object\n",
            "internet_quality                  object\n",
            "mental_health_rating               int64\n",
            "extracurricular_participation     object\n",
            "exam_score                       float64\n",
            "dtype: object\n",
            "\n",
            "\n",
            "Dataframe rows count: \n",
            "student_id                       1000\n",
            "age                              1000\n",
            "gender                           1000\n",
            "study_hours_per_day              1000\n",
            "social_media_hours               1000\n",
            "netflix_hours                    1000\n",
            "part_time_job                    1000\n",
            "attendance_percentage            1000\n",
            "sleep_hours                      1000\n",
            "diet_quality                     1000\n",
            "exercise_frequency               1000\n",
            "parental_education_level          909\n",
            "internet_quality                 1000\n",
            "mental_health_rating             1000\n",
            "extracurricular_participation    1000\n",
            "exam_score                       1000\n",
            "dtype: int64\n",
            "\n",
            "\n",
            "Dataframe column count: 16\n"
          ]
        }
      ]
    },
    {
      "cell_type": "code",
      "source": [
        "import numpy as np\n",
        "\n",
        "avg_exam_score = np.average(df['exam_score'])\n",
        "print(\"Average exam score: \"+ str(round(avg_exam_score, 1)))\n",
        "\n",
        "avg_exam_score_boys = np.average(df['exam_score'],weights=df['gender']=='Male')\n",
        "avg_exam_score_girls = np.average(df['exam_score'],weights=df['gender']=='Female')\n",
        "\n",
        "print(\"Average exam score for boys: \"+str(round(avg_exam_score_boys, 2)))\n",
        "print(\"Average exam score for girls: \"+str(round(avg_exam_score_girls,2)))"
      ],
      "metadata": {
        "colab": {
          "base_uri": "https://localhost:8080/"
        },
        "id": "myR0U7nIOFNf",
        "outputId": "e1639070-a379-45d5-ddc2-71c2b965d449"
      },
      "execution_count": null,
      "outputs": [
        {
          "output_type": "stream",
          "name": "stdout",
          "text": [
            "Average exam score: 69.6\n",
            "Average exam score for boys: 69.37\n",
            "Average exam score for girls: 69.74\n"
          ]
        }
      ]
    },
    {
      "cell_type": "code",
      "source": [
        "count_part_time_job= 100*(np.sum(df['part_time_job']==\"Yes\") / len(df['part_time_job']))\n",
        "print(\"Student with part time job [%]: \"+ str(count_part_time_job))\n",
        "print(\"Student without part time job [%]: \" + str(100-count_part_time_job))\n",
        "\n"
      ],
      "metadata": {
        "colab": {
          "base_uri": "https://localhost:8080/"
        },
        "id": "Q89MJ1rYRVOp",
        "outputId": "f3119dfc-a2ac-438a-b6b9-8111374b333e"
      },
      "execution_count": null,
      "outputs": [
        {
          "output_type": "stream",
          "name": "stdout",
          "text": [
            "Student with part time job [%]: 21.5\n",
            "Student without part time job [%]: 78.5\n"
          ]
        }
      ]
    },
    {
      "cell_type": "code",
      "source": [
        "def gen():\n",
        "  yield 1\n",
        "  yield 2\n",
        "  yield 3\n",
        "\n",
        "print(list(gen()))\n",
        "print(list(gen()))"
      ],
      "metadata": {
        "id": "KzTNEaoUc3iI",
        "outputId": "2b78bcd2-4d4a-4510-a204-7d95c332f9ea",
        "colab": {
          "base_uri": "https://localhost:8080/"
        }
      },
      "execution_count": null,
      "outputs": [
        {
          "output_type": "stream",
          "name": "stdout",
          "text": [
            "[1, 2, 3]\n",
            "[1, 2, 3]\n"
          ]
        }
      ]
    },
    {
      "cell_type": "code",
      "source": [
        "listaEksperta = [3,2,5,4,8,6,7,9,1]\n",
        "print(max(listaEksperta))\n",
        "\n",
        "idx=0\n",
        "for x in listaEksperta:\n",
        "  if x>idx:\n",
        "    idx=x\n",
        "\n",
        "print(idx)"
      ],
      "metadata": {
        "colab": {
          "base_uri": "https://localhost:8080/"
        },
        "id": "-VFxvXRaLWW0",
        "outputId": "002c4325-2d96-40c9-8d52-db0b59db2eaf"
      },
      "execution_count": null,
      "outputs": [
        {
          "output_type": "stream",
          "name": "stdout",
          "text": [
            "9\n",
            "9\n"
          ]
        }
      ]
    },
    {
      "cell_type": "code",
      "source": [
        "print(\"Kalkulator BMI \\n- podaj wagę [kg]: \")\n",
        "\n",
        "waga = input()\n",
        "print(\"Podano błędne dane!\")\n",
        "\n",
        "print(\"- podaj wzrost [m]: \")\n",
        "wzrost = input()\n",
        "try:\n",
        "  bmi = float(waga) / (float(wzrost) ** 2)\n",
        "  if bmi < 18.5:\n",
        "    print(str(bmi)+\" - Niedowaga\")\n",
        "  elif bmi < 25 and bmi >=18.5:\n",
        "    print(str(bmi)+\" - Norma\")\n",
        "  elif bmi <29.9 and bmi >= 25:\n",
        "    print(str(bmi)+\" - Nadwaga\")\n",
        "  elif bmi >= 30:\n",
        "    print(str(bmi)+\" - Otyłość\")\n",
        "  else:\n",
        "    print(\"Błąd odczytu danych\")\n",
        "except:\n",
        "  print(\"Dane niepoprawne!\")\n",
        "\n",
        "\n"
      ],
      "metadata": {
        "colab": {
          "base_uri": "https://localhost:8080/"
        },
        "id": "rGUvrMKHugRJ",
        "outputId": "68cdafcf-b39e-4c03-abab-29758e03afc8"
      },
      "execution_count": 11,
      "outputs": [
        {
          "output_type": "stream",
          "name": "stdout",
          "text": [
            "Kalkulator BMI \n",
            "- podaj wagę [kg]: \n",
            "83\n",
            "Podano błędne dane!\n",
            "- podaj wzrost [m]: \n",
            "1.93\n",
            "22.28247738194314 - Norma\n"
          ]
        }
      ]
    },
    {
      "cell_type": "code",
      "source": [
        "def is_prime(n):\n",
        "  isPrime=True\n",
        "  if n==1:\n",
        "    isPrime=False\n",
        "    return isPrime\n",
        "  else:\n",
        "    for x in range(1,n):\n",
        "      print(x)\n",
        "      if n % x == 0 and x!=1:\n",
        "        isPrime = False\n",
        "\n",
        "  print(\"All prime numbers [2-100]: \")\n",
        "  return isPrime\n",
        "\n",
        "is_prime(5)\n",
        "\n",
        "for i in range(2,101):\n",
        "  status=True\n",
        "  for ii in range(2,i):\n",
        "    if i % ii != 0:\n",
        "      status=True\n",
        "    else:\n",
        "      status=False\n",
        "      break\n",
        "  if status==True:\n",
        "    print(str(i))\n",
        "\n"
      ],
      "metadata": {
        "colab": {
          "base_uri": "https://localhost:8080/"
        },
        "id": "jSi3TLKC8Sw8",
        "outputId": "1663b1ca-f9a1-4225-c03b-68d3d660deaa"
      },
      "execution_count": 40,
      "outputs": [
        {
          "output_type": "stream",
          "name": "stdout",
          "text": [
            "1\n",
            "2\n",
            "3\n",
            "4\n",
            "All prime numbers [2-100]: \n",
            "2\n",
            "3\n",
            "5\n",
            "7\n",
            "11\n",
            "13\n",
            "17\n",
            "19\n",
            "23\n",
            "29\n",
            "31\n",
            "37\n",
            "41\n",
            "43\n",
            "47\n",
            "53\n",
            "59\n",
            "61\n",
            "67\n",
            "71\n",
            "73\n",
            "79\n",
            "83\n",
            "89\n",
            "97\n"
          ]
        }
      ]
    },
    {
      "cell_type": "code",
      "source": [
        "def palindrom():\n",
        "  print(\"Podaj słowo: \")\n",
        "  slowo = input()\n",
        "  wynik=False\n",
        "  for x in range(len(slowo)):\n",
        "    if slowo[x]==slowo[len(slowo)-x-1]:\n",
        "      wynik=True\n",
        "    else:\n",
        "      wynik=False\n",
        "      break\n",
        "  print(\"Czy słowo \" + str(slowo) + \" jest palindromem? \" + str(wynik))\n",
        "\n",
        "palindrom()\n"
      ],
      "metadata": {
        "colab": {
          "base_uri": "https://localhost:8080/"
        },
        "id": "7fcc8UtLjZos",
        "outputId": "42b21928-5395-4b33-edf5-d4a437c6fc63"
      },
      "execution_count": 63,
      "outputs": [
        {
          "output_type": "stream",
          "name": "stdout",
          "text": [
            "Podaj słowo: \n",
            "kajak\n",
            "Czy słowo kajak jest palindromem? True\n"
          ]
        }
      ]
    },
    {
      "cell_type": "code",
      "source": [
        "from collections import Counter\n",
        "\n",
        "listaDoZmiany=[1,2,2,3,3,3,4,4,4,4]\n",
        "nowaLista=dict(Counter(listaDoZmiany))\n",
        "print(nowaLista)\n"
      ],
      "metadata": {
        "colab": {
          "base_uri": "https://localhost:8080/"
        },
        "id": "eAuYMR6cp5oA",
        "outputId": "c20ddcfb-54ba-4cf2-ae60-dc2b459d9505"
      },
      "execution_count": 73,
      "outputs": [
        {
          "output_type": "stream",
          "name": "stdout",
          "text": [
            "{1: 1, 2: 2, 3: 3, 4: 4}\n"
          ]
        }
      ]
    },
    {
      "cell_type": "code",
      "source": [],
      "metadata": {
        "id": "17ptXf4fsH3m"
      },
      "execution_count": null,
      "outputs": []
    }
  ]
}