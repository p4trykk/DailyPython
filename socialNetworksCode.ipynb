{
 "cells": [
  {
   "cell_type": "code",
   "execution_count": 41,
   "metadata": {},
   "outputs": [],
   "source": [
    "import pandas as pd\n",
    "import numpy as np\n",
    "from sklearn.manifold import TSNE\n",
    "from sklearn.metrics.pairwise import cosine_similarity\n",
    "from pyvis.network import Network"
   ]
  },
  {
   "cell_type": "code",
   "execution_count": 42,
   "metadata": {},
   "outputs": [],
   "source": [
    "# Load the dataset\n",
    "data = pd.read_csv('data.csv')\n",
    "\n",
    "# Extract game percentages\n",
    "def extract_game_percentages(row):\n",
    "    games = {}\n",
    "    for col in ['GamePlayed1%', 'GamePlayed2%', 'GamePlayed3%']:\n",
    "        if pd.notna(row[col]):\n",
    "            game, percent = row[col].split(':')\n",
    "            games[game] = float(percent)\n",
    "    return games\n",
    "\n",
    "data['Games'] = data.apply(extract_game_percentages, axis=1)\n"
   ]
  },
  {
   "cell_type": "code",
   "execution_count": 43,
   "metadata": {},
   "outputs": [],
   "source": [
    "# Normalize the node size based on TotalHoursWatched\n",
    "max_hours_watched = data['TotalHoursWatched'].max()\n",
    "data['NodeSize'] = (data['TotalHoursWatched'] / max_hours_watched) * 50  # Scaled for better visibility\n",
    "\n",
    "# Determine dominant game for each streamer\n",
    "def dominant_game(row):\n",
    "    if row['Games']:\n",
    "        return max(row['Games'], key=row['Games'].get)\n",
    "    return None\n",
    "\n",
    "data['DominantGame'] = data.apply(dominant_game, axis=1)"
   ]
  },
  {
   "cell_type": "code",
   "execution_count": 44,
   "metadata": {},
   "outputs": [],
   "source": [
    "# Create a vector for each streamer based on all unique games\n",
    "def similarity_vector(row, all_games):\n",
    "    vec = {game: 0 for game in all_games}\n",
    "    for game, percent in row['Games'].items():\n",
    "        vec[game] = percent / 100.0\n",
    "    return np.array(list(vec.values()))\n",
    "\n",
    "# Identify all unique games\n",
    "all_unique_games = set(\n",
    "    game for row_games in data['Games'] for game in row_games.keys()\n",
    ")\n",
    "\n",
    "data['Vector'] = data.apply(similarity_vector, axis=1, all_games=all_unique_games)\n"
   ]
  },
  {
   "cell_type": "code",
   "execution_count": 45,
   "metadata": {},
   "outputs": [],
   "source": [
    "vectors = np.stack(data['Vector'])\n",
    "similarity_matrix = cosine_similarity(vectors)\n",
    "\n",
    "# Ensure distances are valid (positive by transforming into dissimilarity)\n",
    "distance_matrix = 1 - similarity_matrix\n",
    "distance_matrix = np.clip(distance_matrix, 0, None)  # Clip negative values to 0\n",
    "\n",
    "# Apply t-SNE to position nodes based on the similarity matrix\n",
    "tsne = TSNE(n_components=2, metric=\"precomputed\", random_state=42, init='random')\n",
    "positions = tsne.fit_transform(distance_matrix)\n",
    "\n",
    "data['x'] = positions[:, 0]\n",
    "data['y'] = positions[:, 1]\n"
   ]
  },
  {
   "cell_type": "code",
   "execution_count": 35,
   "metadata": {},
   "outputs": [],
   "source": [
    "# Map dominant games to colors\n",
    "unique_games = data['DominantGame'].dropna().unique()\n",
    "color_map = {game: color for game, color in zip(unique_games, ['red', 'blue', 'green', 'orange', 'purple', 'pink', 'cyan', 'yellow', 'lime'])}\n",
    "data['Color'] = data['DominantGame'].map(color_map).fillna('gray')\n",
    "\n",
    "# Create a pyvis network\n",
    "net = Network(height=\"800px\", width=\"100%\", bgcolor=\"#000000\", font_color=\"white\", directed=False)\n",
    "\n",
    "# Add nodes to the network\n",
    "for _, row in data.iterrows():\n",
    "    net.add_node(\n",
    "        n_id=row['StreamerName'],\n",
    "        label=row['StreamerName'],\n",
    "        x=row['x'] * 100,  \n",
    "        y=row['y'] * 100,\n",
    "        size=row['NodeSize'],\n",
    "        color=row['Color']\n",
    "    )\n"
   ]
  },
  {
   "cell_type": "code",
   "execution_count": 36,
   "metadata": {},
   "outputs": [
    {
     "name": "stdout",
     "output_type": "stream",
     "text": [
      "Network saved to streamer_network.html. Open this file in a browser to view the visualization.\n"
     ]
    }
   ],
   "source": [
    "# Custom physics options (added directly to the HTML)\n",
    "physics_options = \"\"\"\n",
    "var options = {\n",
    "  \"physics\": {\n",
    "    \"enabled\": true,\n",
    "    \"solver\": \"forceAtlas2Based\",\n",
    "    \"forceAtlas2Based\": {\n",
    "      \"gravitationalConstant\": -50,\n",
    "      \"centralGravity\": 0.01,\n",
    "      \"springLength\": 100,\n",
    "      \"springConstant\": 0.08\n",
    "    },\n",
    "    \"minVelocity\": 0.75\n",
    "  }\n",
    "}\n",
    "\"\"\"\n",
    "\n",
    "# Generate the HTML output with custom options\n",
    "html_content = net.generate_html()\n",
    "custom_html_content = html_content.replace(\n",
    "    '<script type=\"application/javascript\">var options = {};</script>',\n",
    "    f'<script type=\"application/javascript\">{physics_options}</script>'\n",
    ")\n",
    "\n",
    "# Save the HTML file\n",
    "output_filename = \"streamer_network.html\"\n",
    "with open(output_filename, \"w\", encoding=\"utf-8\") as f:\n",
    "    f.write(custom_html_content)\n",
    "\n",
    "print(f\"Network saved to {output_filename}. Open this file in a browser to view the visualization.\")"
   ]
  }
 ],
 "metadata": {
  "kernelspec": {
   "display_name": "Python 3",
   "language": "python",
   "name": "python3"
  },
  "language_info": {
   "codemirror_mode": {
    "name": "ipython",
    "version": 3
   },
   "file_extension": ".py",
   "mimetype": "text/x-python",
   "name": "python",
   "nbconvert_exporter": "python",
   "pygments_lexer": "ipython3",
   "version": "3.12.1"
  }
 },
 "nbformat": 4,
 "nbformat_minor": 2
}
